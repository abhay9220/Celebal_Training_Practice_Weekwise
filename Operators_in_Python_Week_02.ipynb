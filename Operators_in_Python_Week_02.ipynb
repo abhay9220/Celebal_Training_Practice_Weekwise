{
  "nbformat": 4,
  "nbformat_minor": 0,
  "metadata": {
    "colab": {
      "name": "Operators_in_Python_Week_01.ipynb",
      "provenance": []
    },
    "kernelspec": {
      "name": "python3",
      "display_name": "Python 3"
    },
    "language_info": {
      "name": "python"
    }
  },
  "cells": [
    {
      "cell_type": "markdown",
      "source": [
        "**Arithmetic Operators**"
      ],
      "metadata": {
        "id": "NE_j-9om8H0u"
      }
    },
    {
      "cell_type": "code",
      "source": [
        "#Addition(+)\n",
        "x = 2\n",
        "y = 5\n",
        "a = x+y\n",
        "print(a)"
      ],
      "metadata": {
        "colab": {
          "base_uri": "https://localhost:8080/"
        },
        "id": "PUTO7zAo8ak8",
        "outputId": "504ed406-8180-40b8-ef32-80e69fa84460"
      },
      "execution_count": 1,
      "outputs": [
        {
          "output_type": "stream",
          "name": "stdout",
          "text": [
            "7\n"
          ]
        }
      ]
    },
    {
      "cell_type": "code",
      "source": [
        "#Subtraction(-)\n",
        "x = 6\n",
        "y = 2\n",
        "z = x - y\n",
        "print(z)"
      ],
      "metadata": {
        "colab": {
          "base_uri": "https://localhost:8080/"
        },
        "id": "56X9BHzn8jWL",
        "outputId": "3c343b91-c583-41a0-a0da-aaa0f23dc8cc"
      },
      "execution_count": 23,
      "outputs": [
        {
          "output_type": "stream",
          "name": "stdout",
          "text": [
            "4\n"
          ]
        }
      ]
    },
    {
      "cell_type": "code",
      "source": [
        "#Multiplication(*)\n",
        "x = 4\n",
        "y = 2\n",
        "z = x*y\n",
        "print(z)"
      ],
      "metadata": {
        "colab": {
          "base_uri": "https://localhost:8080/"
        },
        "id": "z_RcU7vT8s4W",
        "outputId": "89909de9-db1c-4d32-97c8-de0fa5b87e42"
      },
      "execution_count": 3,
      "outputs": [
        {
          "output_type": "stream",
          "name": "stdout",
          "text": [
            "8\n"
          ]
        }
      ]
    },
    {
      "cell_type": "code",
      "source": [
        "#Division(/)\n",
        "x = 4\n",
        "y = 6\n",
        "z = x/y\n",
        "print(z)"
      ],
      "metadata": {
        "colab": {
          "base_uri": "https://localhost:8080/"
        },
        "id": "t2fePDP185uQ",
        "outputId": "2210601d-0316-4b0a-8d9b-0df9409631d3"
      },
      "execution_count": 4,
      "outputs": [
        {
          "output_type": "stream",
          "name": "stdout",
          "text": [
            "0.6666666666666666\n"
          ]
        }
      ]
    },
    {
      "cell_type": "code",
      "source": [
        "#Modulus(%)\n",
        "x = 4\n",
        "y = 6\n",
        "z = x%y\n",
        "print(z)"
      ],
      "metadata": {
        "colab": {
          "base_uri": "https://localhost:8080/"
        },
        "id": "tMEWr9Pn9BNX",
        "outputId": "a30230b8-a494-4f3b-c419-0dfa4ad3a0e9"
      },
      "execution_count": 5,
      "outputs": [
        {
          "output_type": "stream",
          "name": "stdout",
          "text": [
            "4\n"
          ]
        }
      ]
    },
    {
      "cell_type": "code",
      "source": [
        "#Exponentiation(**)\n",
        "x = 2\n",
        "y = 2\n",
        "z = x ** y\n",
        "print(z)"
      ],
      "metadata": {
        "colab": {
          "base_uri": "https://localhost:8080/"
        },
        "id": "l__3tOYV9K2r",
        "outputId": "f2a6c7de-fcc6-46e8-e62d-45901b393322"
      },
      "execution_count": 6,
      "outputs": [
        {
          "output_type": "stream",
          "name": "stdout",
          "text": [
            "4\n"
          ]
        }
      ]
    },
    {
      "cell_type": "code",
      "source": [
        "#Floor Division(//)\n",
        "x = 14\n",
        "y = 5\n",
        "z = x // y\n",
        "print(z)"
      ],
      "metadata": {
        "colab": {
          "base_uri": "https://localhost:8080/"
        },
        "id": "lsspL2KA9VGU",
        "outputId": "cb436352-142f-4693-c3ed-e79855ef11e2"
      },
      "execution_count": 7,
      "outputs": [
        {
          "output_type": "stream",
          "name": "stdout",
          "text": [
            "2\n"
          ]
        }
      ]
    },
    {
      "cell_type": "markdown",
      "source": [
        "**Assignment Operators**"
      ],
      "metadata": {
        "id": "hMZsV0mX-bsb"
      }
    },
    {
      "cell_type": "code",
      "source": [
        "#=\n",
        "x = 6\n",
        "print(x)"
      ],
      "metadata": {
        "colab": {
          "base_uri": "https://localhost:8080/"
        },
        "id": "t5yA86vf-jny",
        "outputId": "8de3216d-2128-4cf7-fc3e-1552323ca630"
      },
      "execution_count": 8,
      "outputs": [
        {
          "output_type": "stream",
          "name": "stdout",
          "text": [
            "6\n"
          ]
        }
      ]
    },
    {
      "cell_type": "code",
      "source": [
        "#+=\n",
        "x = 2\n",
        "x += 3\n",
        "print(x)"
      ],
      "metadata": {
        "colab": {
          "base_uri": "https://localhost:8080/"
        },
        "id": "4bUF_-nP-tKK",
        "outputId": "3ce73b3f-5812-4760-aa66-170a166d54ca"
      },
      "execution_count": 9,
      "outputs": [
        {
          "output_type": "stream",
          "name": "stdout",
          "text": [
            "5\n"
          ]
        }
      ]
    },
    {
      "cell_type": "code",
      "source": [
        "#-=\n",
        "x = 5\n",
        "x -= 2\n",
        "print(x)"
      ],
      "metadata": {
        "colab": {
          "base_uri": "https://localhost:8080/"
        },
        "id": "h26vXGab-zK3",
        "outputId": "e261757f-838b-4411-8f29-58ef9eae60da"
      },
      "execution_count": 10,
      "outputs": [
        {
          "output_type": "stream",
          "name": "stdout",
          "text": [
            "3\n"
          ]
        }
      ]
    },
    {
      "cell_type": "code",
      "source": [
        "#*=\n",
        "x = 2\n",
        "x *= 2\n",
        "print(x)"
      ],
      "metadata": {
        "colab": {
          "base_uri": "https://localhost:8080/"
        },
        "id": "H9r1vn5X-__C",
        "outputId": "839500cb-8ae7-459c-e1f5-5cab98db7c31"
      },
      "execution_count": 11,
      "outputs": [
        {
          "output_type": "stream",
          "name": "stdout",
          "text": [
            "4\n"
          ]
        }
      ]
    },
    {
      "cell_type": "code",
      "source": [
        "#/=\n",
        "x = 6\n",
        "x /= 2\n",
        "print(x)"
      ],
      "metadata": {
        "colab": {
          "base_uri": "https://localhost:8080/"
        },
        "id": "obuUtjm5_GDI",
        "outputId": "ff229df2-493b-47a5-bb33-c86cf0f51f3e"
      },
      "execution_count": 12,
      "outputs": [
        {
          "output_type": "stream",
          "name": "stdout",
          "text": [
            "3.0\n"
          ]
        }
      ]
    },
    {
      "cell_type": "code",
      "source": [
        "#%=\n",
        "x = 5\n",
        "x %= 2\n",
        "print(x)"
      ],
      "metadata": {
        "colab": {
          "base_uri": "https://localhost:8080/"
        },
        "id": "AWwgpakI_Nqh",
        "outputId": "109c85fd-d290-4c32-91b5-f8b6fda1cfe0"
      },
      "execution_count": 13,
      "outputs": [
        {
          "output_type": "stream",
          "name": "stdout",
          "text": [
            "1\n"
          ]
        }
      ]
    },
    {
      "cell_type": "code",
      "source": [
        "#//=\n",
        "x = 5\n",
        "x //= 2\n",
        "print(x)"
      ],
      "metadata": {
        "colab": {
          "base_uri": "https://localhost:8080/"
        },
        "id": "KMXoI8pS_Tiw",
        "outputId": "8b611674-30e3-455b-bcb6-8262420fa0ad"
      },
      "execution_count": 14,
      "outputs": [
        {
          "output_type": "stream",
          "name": "stdout",
          "text": [
            "2\n"
          ]
        }
      ]
    },
    {
      "cell_type": "code",
      "source": [
        "#**=\n",
        "z = 3\n",
        "z **=2\n",
        "print(z)"
      ],
      "metadata": {
        "colab": {
          "base_uri": "https://localhost:8080/"
        },
        "id": "vWxw-MW__abC",
        "outputId": "c1eb972f-df3d-4adc-b4e6-cd778130640f"
      },
      "execution_count": 15,
      "outputs": [
        {
          "output_type": "stream",
          "name": "stdout",
          "text": [
            "9\n"
          ]
        }
      ]
    },
    {
      "cell_type": "code",
      "source": [
        "#&= Performs Bitwise AND on operands and assign value to left operand\n",
        "z = 4\n",
        "z &= 5\n",
        "print(z)"
      ],
      "metadata": {
        "colab": {
          "base_uri": "https://localhost:8080/"
        },
        "id": "xESGsOD9_jOG",
        "outputId": "1f37914d-d8a8-4741-fc53-e5368481e7c5"
      },
      "execution_count": 16,
      "outputs": [
        {
          "output_type": "stream",
          "name": "stdout",
          "text": [
            "4\n"
          ]
        }
      ]
    },
    {
      "cell_type": "code",
      "source": [
        "#|= Performs Bitwise OR on operands and assign value to left operand\n",
        "#^= Performs Bitwise xOR on operands and assign value to left operand\n",
        "#>>= Performs Bitwise right shift on operands and assign value to left operand\n",
        "#<<= Performs Bitwise left shift on operands and assign value to left operand\n",
        "z = 10\n",
        "\n",
        "z |= 2\n",
        "print(z)\n",
        "\n",
        "z ^= 2\n",
        "print(z)\n",
        "\n",
        "z >>= 3\n",
        "print(z)\n",
        "\n",
        "z <<= 4\n",
        "print(z)"
      ],
      "metadata": {
        "colab": {
          "base_uri": "https://localhost:8080/"
        },
        "id": "wfXO7Mlb_rFw",
        "outputId": "f7bff768-b3dd-45c7-80fc-c6562ad0fdca"
      },
      "execution_count": 17,
      "outputs": [
        {
          "output_type": "stream",
          "name": "stdout",
          "text": [
            "10\n",
            "8\n",
            "1\n",
            "16\n"
          ]
        }
      ]
    },
    {
      "cell_type": "markdown",
      "source": [
        "**Identity Operators**"
      ],
      "metadata": {
        "id": "FGDLk2QACCuJ"
      }
    },
    {
      "cell_type": "code",
      "source": [
        "#is  :True if the operands are identical \n",
        "#is not :True if the operands are not identical\n",
        "\n",
        "\n",
        "a = 10\n",
        "b = 20\n",
        "c = a\n",
        "\n",
        "print(a is not b)\n",
        "print(a is c)\n",
        "print(a is b)"
      ],
      "metadata": {
        "colab": {
          "base_uri": "https://localhost:8080/"
        },
        "id": "-BQo7m5wCELQ",
        "outputId": "c6c885ea-51eb-43ba-acbf-5e2158932441"
      },
      "execution_count": 19,
      "outputs": [
        {
          "output_type": "stream",
          "name": "stdout",
          "text": [
            "True\n",
            "True\n",
            "False\n"
          ]
        }
      ]
    },
    {
      "cell_type": "markdown",
      "source": [
        "**Membership Operators**"
      ],
      "metadata": {
        "id": "6P4tXTrxCXOw"
      }
    },
    {
      "cell_type": "code",
      "source": [
        "#in :True if value is found in the sequence\n",
        "#not in :True if value is not found in the sequence\n",
        "\n",
        "x = 24\n",
        "y = 20\n",
        "list = [10, 20, 30, 40, 50]\n",
        "\n",
        "print(x in list)\n",
        "print(y in list)\n",
        "print(x not in list)"
      ],
      "metadata": {
        "colab": {
          "base_uri": "https://localhost:8080/"
        },
        "id": "991USwWuCalf",
        "outputId": "1517f62c-9721-4774-f08f-2bcf4cf821ce"
      },
      "execution_count": 22,
      "outputs": [
        {
          "output_type": "stream",
          "name": "stdout",
          "text": [
            "False\n",
            "True\n",
            "True\n"
          ]
        }
      ]
    },
    {
      "cell_type": "markdown",
      "source": [
        "**Bitwise Operators**"
      ],
      "metadata": {
        "id": "jwMJeVBPC8KB"
      }
    },
    {
      "cell_type": "code",
      "source": [
        "a = 15\n",
        "b = 10\n",
        "\n",
        "# print bitwise right shift operator\n",
        "print(\"a >> 1 =\", a >> 1)\n",
        "print(\"b >> 1 =\", b >> 1)\n",
        "\n",
        "a = 5\n",
        "b = 10\n",
        "\n",
        "# print bitwise left shift operator\n",
        "print(\"a << 1 =\", a << 1)\n",
        "print(\"b << 1 =\", b << 1)"
      ],
      "metadata": {
        "colab": {
          "base_uri": "https://localhost:8080/"
        },
        "id": "tZYR_A7YDbk7",
        "outputId": "b1b5ce3a-3413-46ef-a0f6-c6bfb4d1fe02"
      },
      "execution_count": 24,
      "outputs": [
        {
          "output_type": "stream",
          "name": "stdout",
          "text": [
            "a >> 1 = 7\n",
            "b >> 1 = 5\n",
            "a << 1 = 10\n",
            "b << 1 = 20\n"
          ]
        }
      ]
    },
    {
      "cell_type": "code",
      "source": [
        ""
      ],
      "metadata": {
        "id": "wtc4cd5mD5O8"
      },
      "execution_count": null,
      "outputs": []
    }
  ]
}