{
  "nbformat": 4,
  "nbformat_minor": 0,
  "metadata": {
    "colab": {
      "name": "Celebal_Week_o2_Practice.ipynb",
      "provenance": [],
      "collapsed_sections": []
    },
    "kernelspec": {
      "name": "python3",
      "display_name": "Python 3"
    },
    "language_info": {
      "name": "python"
    }
  },
  "cells": [
    {
      "cell_type": "markdown",
      "source": [
        "**Operators**"
      ],
      "metadata": {
        "id": "xVmCnhuaPEUe"
      }
    },
    {
      "cell_type": "markdown",
      "source": [
        "1.Arithmetic Operators\n",
        "\n",
        "*   Addition (+)\n",
        "*   Subtraction (-)\n",
        "\n",
        "\n",
        "*   Multiplication (*)\n",
        "\n",
        "*   Division (/)\n",
        "\n",
        "*   Modulus (%)\n",
        "*   Exponentiation (**)\n",
        "\n",
        "\n",
        "\n",
        "*   Floor division (//)\n",
        "\n",
        "\n",
        "\n",
        "\n",
        "\n",
        "\n"
      ],
      "metadata": {
        "id": "tzPWaHg0PHwW"
      }
    },
    {
      "cell_type": "markdown",
      "source": [
        "2.Assignment Operators\n",
        "\n",
        "*   =, +=, -=, *=, /=, %=, //=, **=, &=, |=, ^=, >>=, <<=\n",
        "  \n",
        "\n"
      ],
      "metadata": {
        "id": "mnlh_tZjQLYS"
      }
    },
    {
      "cell_type": "markdown",
      "source": [
        "3.Comparison Operators\n",
        "\n",
        "\n",
        "* ==, !=, >, <, >=, <=\n",
        "\n"
      ],
      "metadata": {
        "id": "ZBTDqyryQtcK"
      }
    },
    {
      "cell_type": "markdown",
      "source": [
        "4.Logical Operators\n",
        "\n",
        "\n",
        "*  and, or, not\n",
        "\n"
      ],
      "metadata": {
        "id": "5gYXUlpnQ4cB"
      }
    },
    {
      "cell_type": "markdown",
      "source": [
        "5.Identity Operators\n",
        "\n",
        "\n",
        "* is, is not\n",
        "\n"
      ],
      "metadata": {
        "id": "txd2VgzwQ_yQ"
      }
    },
    {
      "cell_type": "markdown",
      "source": [
        "6.Membership Operators\n",
        "\n",
        "\n",
        "* in, not in\n",
        "\n"
      ],
      "metadata": {
        "id": "RE0CMpjfRG4A"
      }
    },
    {
      "cell_type": "markdown",
      "source": [
        "7.Bitwise Operators\n",
        "\n",
        "\n",
        "*  AND (&)\n",
        "\n",
        "\n",
        "*  OR (|)\n",
        "*  XOR (^)\n",
        "\n",
        "\n",
        "\n",
        "*  NOT (~)\n",
        "*  Zero fill left shift (<<)\n",
        "\n",
        "*  Signed right \n",
        "\n",
        "\n",
        "\n",
        "\n",
        "\n"
      ],
      "metadata": {
        "id": "X2d4oVkyRNgQ"
      }
    },
    {
      "cell_type": "code",
      "source": [
        "x = int(input(\"Enter the number 1 : \"))\n",
        "y = int(input(\"Enter the number 2 : \"))\n",
        "\n",
        "print('x + y =',x+y)\n",
        "print('x - y =',x-y)\n",
        "print('x / y =',x/y)\n",
        "print('x // y =',x//y)\n",
        "print('x ** y =',x**y)"
      ],
      "metadata": {
        "colab": {
          "base_uri": "https://localhost:8080/"
        },
        "id": "wTZjq-kgZwLj",
        "outputId": "132f24b1-4516-44b6-988b-2d604a80f6b6"
      },
      "execution_count": null,
      "outputs": [
        {
          "output_type": "stream",
          "name": "stdout",
          "text": [
            "Enter the number 1 : 4\n",
            "Enter the number 2 : 2\n",
            "x + y = 6\n",
            "x - y = 2\n",
            "x / y = 2.0\n",
            "x // y = 2\n",
            "x ** y = 16\n"
          ]
        }
      ]
    },
    {
      "cell_type": "markdown",
      "source": [
        "Comparison operators in Python"
      ],
      "metadata": {
        "id": "91bPrqB3fZE2"
      }
    },
    {
      "cell_type": "code",
      "source": [
        "x = int(input(\"Enter the number 1 : \"))\n",
        "y = int(input(\"Enter the number 2 : \"))\n",
        " \n",
        "# print bitwise right shift operator\n",
        "print('x >> 1', x >> 1)\n",
        "print('y >> 1', y >> 1)\n"
      ],
      "metadata": {
        "colab": {
          "base_uri": "https://localhost:8080/"
        },
        "id": "d54hsON-ahWz",
        "outputId": "01997090-2a1e-4145-c89e-b92f9a475c1b"
      },
      "execution_count": null,
      "outputs": [
        {
          "output_type": "stream",
          "name": "stdout",
          "text": [
            "Enter the number 1 : 20\n",
            "Enter the number 2 : 15\n",
            "x >> 1 10\n",
            "y >> 1 7\n"
          ]
        }
      ]
    },
    {
      "cell_type": "code",
      "source": [
        "x = int(input(\"Enter the number 1 : \"))\n",
        "y = int(input(\"Enter the number 2 : \"))\n",
        "\n",
        "# print bitwise left shift operator\n",
        "print('x << 1',x<<1)\n",
        "print('y << 1',y<<1)\n",
        "\n",
        "\n",
        "\n"
      ],
      "metadata": {
        "colab": {
          "base_uri": "https://localhost:8080/"
        },
        "id": "GRK77_yDbW1Z",
        "outputId": "d00b1127-6033-4743-ad5b-19220614149e"
      },
      "execution_count": null,
      "outputs": [
        {
          "output_type": "stream",
          "name": "stdout",
          "text": [
            "Enter the number 1 : 5\n",
            "Enter the number 2 : -10\n",
            "x << 1 10\n",
            "y << 1 -20\n"
          ]
        }
      ]
    },
    {
      "cell_type": "code",
      "source": [
        "x = int(input(\"Enter the number 1 : \"))\n",
        "y = int(input(\"Enter the number 2 : \"))\n",
        "\n",
        "print('x > y : ',x>y)\n",
        "print('x < y : ',x<y)\n",
        "print('x == y : ',x==y)\n",
        "print('x != y : ',x!=y)\n",
        "print('x >= y : ',x>=y)\n",
        "print('x <= y : ',x<=y)"
      ],
      "metadata": {
        "colab": {
          "base_uri": "https://localhost:8080/"
        },
        "id": "MF8nTVrIbwF-",
        "outputId": "75e50b81-2cab-4e88-8933-bcc59af56fdf"
      },
      "execution_count": null,
      "outputs": [
        {
          "output_type": "stream",
          "name": "stdout",
          "text": [
            "Enter the number 1 : 5\n",
            "Enter the number 2 : 8\n",
            "x > y :  False\n",
            "x < y :  True\n",
            "x == y :  False\n",
            "x != y :  True\n",
            "x >= y :  False\n",
            "x <= y :  True\n"
          ]
        }
      ]
    },
    {
      "cell_type": "markdown",
      "source": [
        "Assingment operators"
      ],
      "metadata": {
        "id": "R1BZr6OqfU35"
      }
    },
    {
      "cell_type": "code",
      "source": [
        "x = 12\n",
        "x += 2\n",
        "#x = x + 2\n",
        "print(x)"
      ],
      "metadata": {
        "colab": {
          "base_uri": "https://localhost:8080/"
        },
        "id": "lCFpNjXxccc1",
        "outputId": "56308ff6-4622-48cd-a802-de2bdbdbb50e"
      },
      "execution_count": null,
      "outputs": [
        {
          "output_type": "stream",
          "name": "stdout",
          "text": [
            "14\n"
          ]
        }
      ]
    },
    {
      "cell_type": "code",
      "source": [
        "x = 12\n",
        "x -= 2\n",
        "#x = x - 2\n",
        "print(x)"
      ],
      "metadata": {
        "colab": {
          "base_uri": "https://localhost:8080/"
        },
        "id": "InPHGxsjcnPj",
        "outputId": "f8871099-92e2-4126-ccbe-e2a0c672bea8"
      },
      "execution_count": null,
      "outputs": [
        {
          "output_type": "stream",
          "name": "stdout",
          "text": [
            "10\n"
          ]
        }
      ]
    },
    {
      "cell_type": "code",
      "source": [
        "x = 12\n",
        "x *= 2\n",
        "#x = x * 2\n",
        "print(x)"
      ],
      "metadata": {
        "colab": {
          "base_uri": "https://localhost:8080/"
        },
        "id": "Xlt2s9ZMcxSs",
        "outputId": "3212c12a-2b71-411c-bd42-570a3e7d8e0e"
      },
      "execution_count": null,
      "outputs": [
        {
          "output_type": "stream",
          "name": "stdout",
          "text": [
            "24\n"
          ]
        }
      ]
    },
    {
      "cell_type": "code",
      "source": [
        "x = 12\n",
        "x /= 2\n",
        "#x = x / 2\n",
        "print(x)"
      ],
      "metadata": {
        "colab": {
          "base_uri": "https://localhost:8080/"
        },
        "id": "GFJU5v9pc1-f",
        "outputId": "f60aa642-3bc2-4609-ca65-974e97944706"
      },
      "execution_count": null,
      "outputs": [
        {
          "output_type": "stream",
          "name": "stdout",
          "text": [
            "6.0\n"
          ]
        }
      ]
    },
    {
      "cell_type": "code",
      "source": [
        "x = 10\n",
        "x %= 3\n",
        "#x = x % 2\n",
        "print(x)"
      ],
      "metadata": {
        "colab": {
          "base_uri": "https://localhost:8080/"
        },
        "id": "m-0Ul5CYc5NS",
        "outputId": "58f68063-1360-4b9b-dfe0-b1cc7f740eef"
      },
      "execution_count": null,
      "outputs": [
        {
          "output_type": "stream",
          "name": "stdout",
          "text": [
            "1\n"
          ]
        }
      ]
    },
    {
      "cell_type": "code",
      "source": [
        "x = 11\n",
        "x //= 2\n",
        "#x = x // 2\n",
        "print(x)"
      ],
      "metadata": {
        "colab": {
          "base_uri": "https://localhost:8080/"
        },
        "id": "H5bR6mNjc_vz",
        "outputId": "452e6721-2544-43ad-9319-894b5b740b72"
      },
      "execution_count": null,
      "outputs": [
        {
          "output_type": "stream",
          "name": "stdout",
          "text": [
            "5\n"
          ]
        }
      ]
    },
    {
      "cell_type": "code",
      "source": [
        "x = 12\n",
        "x **= 2\n",
        "#x = x ** 2\n",
        "print(x)"
      ],
      "metadata": {
        "colab": {
          "base_uri": "https://localhost:8080/"
        },
        "id": "hsxCATUJdEYi",
        "outputId": "850bdbca-7842-4a93-bcfe-8e30840d7801"
      },
      "execution_count": null,
      "outputs": [
        {
          "output_type": "stream",
          "name": "stdout",
          "text": [
            "144\n"
          ]
        }
      ]
    },
    {
      "cell_type": "code",
      "source": [
        "x = 13\n",
        "x &= 2\n",
        "#x = x & 2\n",
        "print(x)"
      ],
      "metadata": {
        "colab": {
          "base_uri": "https://localhost:8080/"
        },
        "id": "vqkzFgdUdKQg",
        "outputId": "75adbc4d-c318-49e0-d3dd-32d15102ed03"
      },
      "execution_count": null,
      "outputs": [
        {
          "output_type": "stream",
          "name": "stdout",
          "text": [
            "0\n"
          ]
        }
      ]
    },
    {
      "cell_type": "code",
      "source": [
        "x = 12\n",
        "x |= 2\n",
        "#x = x | 2\n",
        "print(x)"
      ],
      "metadata": {
        "colab": {
          "base_uri": "https://localhost:8080/"
        },
        "id": "jkNeRf8teEFw",
        "outputId": "a9f48b6d-f86b-4afb-94f7-02bcf022d148"
      },
      "execution_count": null,
      "outputs": [
        {
          "output_type": "stream",
          "name": "stdout",
          "text": [
            "14\n"
          ]
        }
      ]
    },
    {
      "cell_type": "code",
      "source": [
        "x = 12\n",
        "x ^= 2\n",
        "#x = x ^ 2\n",
        "print(x)"
      ],
      "metadata": {
        "colab": {
          "base_uri": "https://localhost:8080/"
        },
        "id": "FSc36NRjeXG8",
        "outputId": "51613623-dab8-4f3c-fb69-8a70d8b7bcc9"
      },
      "execution_count": null,
      "outputs": [
        {
          "output_type": "stream",
          "name": "stdout",
          "text": [
            "14\n"
          ]
        }
      ]
    },
    {
      "cell_type": "markdown",
      "source": [
        "Identity Operators in Python"
      ],
      "metadata": {
        "id": "Jr1aCCltfk9-"
      }
    },
    {
      "cell_type": "code",
      "source": [
        "x = 3\n",
        "y = \"Hii\"\n",
        "z = [3,4,\"Hii\"]\n",
        "\n",
        "print(x is not y)\n",
        "print(x is not z)\n",
        "print(y is  z)\n"
      ],
      "metadata": {
        "colab": {
          "base_uri": "https://localhost:8080/"
        },
        "id": "8pHvMTcKfoum",
        "outputId": "1846e427-c952-48a3-c489-2b6606005898"
      },
      "execution_count": null,
      "outputs": [
        {
          "output_type": "stream",
          "name": "stdout",
          "text": [
            "True\n",
            "True\n",
            "False\n"
          ]
        }
      ]
    },
    {
      "cell_type": "markdown",
      "source": [
        "Membership Operators"
      ],
      "metadata": {
        "id": "7gcXZnXbgIol"
      }
    },
    {
      "cell_type": "code",
      "source": [
        "x= \"Hello World\"\n",
        "y = {1:'a',2:'b'}\n",
        "\n",
        "print('H' in x)\n",
        "\n",
        "print('Hello' not in x)\n",
        "\n",
        "print(1 in y)\n",
        "\n",
        "print('a' in y)"
      ],
      "metadata": {
        "colab": {
          "base_uri": "https://localhost:8080/"
        },
        "id": "1NI5uy5ogMUO",
        "outputId": "badc0a7c-3f4a-4ae4-cf63-03ccb869f756"
      },
      "execution_count": null,
      "outputs": [
        {
          "output_type": "stream",
          "name": "stdout",
          "text": [
            "True\n",
            "False\n",
            "True\n",
            "False\n"
          ]
        }
      ]
    },
    {
      "cell_type": "markdown",
      "source": [
        "**List** - List is a collection which is ordered and changeable. Allows duplicate members."
      ],
      "metadata": {
        "id": "pbsszFinrzGN"
      }
    },
    {
      "cell_type": "code",
      "source": [
        "x = ['apple','banana','cherry','apple','cherry']\n",
        "print(x)"
      ],
      "metadata": {
        "colab": {
          "base_uri": "https://localhost:8080/"
        },
        "id": "_W3qvPcEsGVD",
        "outputId": "76d4ce49-f434-4328-c297-695ff66de7d7"
      },
      "execution_count": null,
      "outputs": [
        {
          "output_type": "stream",
          "name": "stdout",
          "text": [
            "['apple', 'banana', 'cherry', 'apple', 'cherry']\n"
          ]
        }
      ]
    },
    {
      "cell_type": "code",
      "source": [
        "x = ['apple','banana','cherry']\n",
        "print(len(x))"
      ],
      "metadata": {
        "colab": {
          "base_uri": "https://localhost:8080/"
        },
        "id": "WN4NOO8xsVa5",
        "outputId": "8519d6ae-c9a2-4758-8338-cc0502224c26"
      },
      "execution_count": null,
      "outputs": [
        {
          "output_type": "stream",
          "name": "stdout",
          "text": [
            "3\n"
          ]
        }
      ]
    },
    {
      "cell_type": "code",
      "source": [
        "list = ['apple','red',True,34,21]\n",
        "print(list)"
      ],
      "metadata": {
        "colab": {
          "base_uri": "https://localhost:8080/"
        },
        "id": "9LjY77losfuW",
        "outputId": "6a3bdbec-7718-45cf-ea8f-bc388b4e18e9"
      },
      "execution_count": null,
      "outputs": [
        {
          "output_type": "stream",
          "name": "stdout",
          "text": [
            "['apple', 'red', True, 34, 21]\n"
          ]
        }
      ]
    },
    {
      "cell_type": "code",
      "source": [
        "type(list)"
      ],
      "metadata": {
        "colab": {
          "base_uri": "https://localhost:8080/"
        },
        "id": "N1TCxEQhsqWz",
        "outputId": "7ada4fb1-dcf0-47a6-86cf-879b89d6aada"
      },
      "execution_count": null,
      "outputs": [
        {
          "output_type": "execute_result",
          "data": {
            "text/plain": [
              "list"
            ]
          },
          "metadata": {},
          "execution_count": 4
        }
      ]
    },
    {
      "cell_type": "code",
      "source": [
        "x = ['apple','banana','cherry','orange','kiwi','melon','mango']\n",
        "\n",
        "#Access items\n",
        "print(x[2])\n",
        "\n",
        "#Access items using negative indexing\n",
        "print(x[-3])\n",
        "\n",
        "#Range of Indexes\n",
        "print(x[2:6])\n",
        "print(x[0:])\n",
        "print(x[:-2])\n",
        "\n",
        "#check if item exists\n",
        "if 'apple' in x:\n",
        "  print('yes')"
      ],
      "metadata": {
        "colab": {
          "base_uri": "https://localhost:8080/"
        },
        "id": "MT4Z0B2ms_K6",
        "outputId": "3743b987-d629-4c40-84f0-f8ba6f859ba9"
      },
      "execution_count": null,
      "outputs": [
        {
          "output_type": "stream",
          "name": "stdout",
          "text": [
            "cherry\n",
            "kiwi\n",
            "['cherry', 'orange', 'kiwi', 'melon']\n",
            "['apple', 'banana', 'cherry', 'orange', 'kiwi', 'melon', 'mango']\n",
            "['apple', 'banana', 'cherry', 'orange', 'kiwi']\n",
            "yes\n"
          ]
        }
      ]
    },
    {
      "cell_type": "code",
      "source": [
        "x = ['apple','banana','cherry','orange','kiwi','melon','mango']\n",
        "\n",
        "#change a range of item values\n",
        "x[1:2] = ['blackcurrant','watremelon']\n",
        "print(x)\n",
        "\n",
        "#Insert items\n",
        "x.insert(6,'watermelon')\n",
        "print(x)"
      ],
      "metadata": {
        "colab": {
          "base_uri": "https://localhost:8080/"
        },
        "id": "ZtxibzL6t3zN",
        "outputId": "0dc8de48-0be0-40c2-b1bc-e7b9dd087631"
      },
      "execution_count": null,
      "outputs": [
        {
          "output_type": "stream",
          "name": "stdout",
          "text": [
            "['apple', 'blackcurrant', 'watremelon', 'cherry', 'orange', 'kiwi', 'melon', 'mango']\n",
            "['apple', 'blackcurrant', 'watremelon', 'cherry', 'orange', 'kiwi', 'watermelon', 'melon', 'mango']\n"
          ]
        }
      ]
    },
    {
      "cell_type": "code",
      "source": [
        "a = ['apple','banana','cherry']\n",
        "\n",
        "#append items\n",
        "a.append('orange')\n",
        "print(a)\n",
        "\n",
        "#insert items\n",
        "a.insert(1,'blue')\n",
        "print(a)\n",
        "\n",
        "#extend list\n",
        "z = ['apple','banana']\n",
        "tropical = ['mango','pineapple']\n",
        "\n",
        "z.extend(tropical)\n",
        "print(z)\n"
      ],
      "metadata": {
        "colab": {
          "base_uri": "https://localhost:8080/"
        },
        "id": "wOTRh_9KvlKb",
        "outputId": "95eb5ebc-169d-4b97-f9dc-c42dab23175d"
      },
      "execution_count": null,
      "outputs": [
        {
          "output_type": "stream",
          "name": "stdout",
          "text": [
            "['apple', 'banana', 'cherry', 'orange']\n",
            "['apple', 'blue', 'banana', 'cherry', 'orange']\n",
            "['apple', 'banana', 'mango', 'pineapple']\n"
          ]
        }
      ]
    },
    {
      "cell_type": "code",
      "source": [
        "a = ['apple', 'blue', 'banana', 'cherry', 'orange']\n",
        "\n",
        "#remove list items\n",
        "a.remove('blue')\n",
        "print(a)\n",
        "\n",
        "#remove specified index\n",
        "a.pop(0)\n",
        "print(a)"
      ],
      "metadata": {
        "colab": {
          "base_uri": "https://localhost:8080/"
        },
        "id": "09u03m_Ewcgi",
        "outputId": "5fcf8a6b-f9a4-4934-fff5-7da97b454081"
      },
      "execution_count": null,
      "outputs": [
        {
          "output_type": "stream",
          "name": "stdout",
          "text": [
            "['apple', 'banana', 'cherry', 'orange']\n",
            "['banana', 'cherry', 'orange']\n"
          ]
        }
      ]
    },
    {
      "cell_type": "code",
      "source": [
        "a = ['apple','banana','cherry']\n",
        "\n",
        "#loop through a list\n",
        "for x in a:\n",
        "  print(x)\n",
        "\n",
        "#using while loop\n",
        "x = 0\n",
        "while x < len(a):\n",
        "  print(a[x])\n",
        "  x = x+1"
      ],
      "metadata": {
        "colab": {
          "base_uri": "https://localhost:8080/"
        },
        "id": "gv34TNjuw1vu",
        "outputId": "0c94a93d-fa0e-4b09-ac9f-b829a9076bbd"
      },
      "execution_count": null,
      "outputs": [
        {
          "output_type": "stream",
          "name": "stdout",
          "text": [
            "apple\n",
            "banana\n",
            "cherry\n",
            "apple\n",
            "banana\n",
            "cherry\n"
          ]
        }
      ]
    },
    {
      "cell_type": "code",
      "source": [
        "#list comprehension\n",
        "fruits = ['apple','banana','cherry','kiwi','mango']\n",
        "\n",
        "newlist = [x for x in fruits if 'a' in x]\n",
        "print(newlist)"
      ],
      "metadata": {
        "colab": {
          "base_uri": "https://localhost:8080/"
        },
        "id": "apKSPDDsxzfG",
        "outputId": "766dbbb9-2cfe-4bf7-f481-451a647987b3"
      },
      "execution_count": null,
      "outputs": [
        {
          "output_type": "stream",
          "name": "stdout",
          "text": [
            "['apple', 'banana', 'mango']\n"
          ]
        }
      ]
    },
    {
      "cell_type": "code",
      "source": [
        "#sort lists\n",
        "x = [\"orange\", \"mango\", \"kiwi\", \"pineapple\", \"banana\"]\n",
        "x.sort()\n",
        "print(x)\n",
        "\n",
        "a = [100,23,43,45]\n",
        "a.sort(reverse = True)\n",
        "print(a)"
      ],
      "metadata": {
        "colab": {
          "base_uri": "https://localhost:8080/"
        },
        "id": "U7pL9cityacN",
        "outputId": "7c2443f0-fb99-4952-b9b4-6fb02de0b6ad"
      },
      "execution_count": null,
      "outputs": [
        {
          "output_type": "stream",
          "name": "stdout",
          "text": [
            "['banana', 'kiwi', 'mango', 'orange', 'pineapple']\n",
            "[100, 45, 43, 23]\n"
          ]
        }
      ]
    },
    {
      "cell_type": "code",
      "source": [
        "#copy list\n",
        "a = [\"apple\", \"banana\", \"cherry\"]\n",
        "list = a.copy()\n",
        "print(list)"
      ],
      "metadata": {
        "colab": {
          "base_uri": "https://localhost:8080/"
        },
        "id": "2BnTmzu6y5jA",
        "outputId": "123c68b4-3c92-4893-8f50-ea080877ff6f"
      },
      "execution_count": null,
      "outputs": [
        {
          "output_type": "stream",
          "name": "stdout",
          "text": [
            "['apple', 'banana', 'cherry']\n"
          ]
        }
      ]
    },
    {
      "cell_type": "code",
      "source": [
        "#join two lists\n",
        "list1 = ['a','b','c']\n",
        "list2 = [2,3,4]\n",
        "\n",
        "list3 = list1 + list2\n",
        "print(list3)\n"
      ],
      "metadata": {
        "colab": {
          "base_uri": "https://localhost:8080/"
        },
        "id": "gFPVTIDOzFAp",
        "outputId": "f3446ff8-ad29-4fd4-e527-eebdce76d881"
      },
      "execution_count": null,
      "outputs": [
        {
          "output_type": "stream",
          "name": "stdout",
          "text": [
            "['a', 'b', 'c', 2, 3, 4]\n"
          ]
        }
      ]
    },
    {
      "cell_type": "code",
      "source": [
        "list1 = ['a','b','c']\n",
        "list2 = [2,3,4]\n",
        "\n",
        "for x in list2:\n",
        "  list1.append(x)\n",
        "print(list1)"
      ],
      "metadata": {
        "colab": {
          "base_uri": "https://localhost:8080/"
        },
        "id": "5pgIsbDazVcg",
        "outputId": "4225a6e6-dcdb-4dff-9648-08bbc1791972"
      },
      "execution_count": null,
      "outputs": [
        {
          "output_type": "stream",
          "name": "stdout",
          "text": [
            "['a', 'b', 'c', 2, 3, 4]\n"
          ]
        }
      ]
    },
    {
      "cell_type": "code",
      "source": [
        "list1 = ['a','b','c']\n",
        "list2 = [2,3,4]\n",
        "\n",
        "list1.extend(list2)\n",
        "print(list1)"
      ],
      "metadata": {
        "id": "dUjAboANzdPh"
      },
      "execution_count": null,
      "outputs": []
    },
    {
      "cell_type": "markdown",
      "source": [
        "**Tuple** - Tuple is a collection which is ordered and unchangeable. Allows duplicate members"
      ],
      "metadata": {
        "id": "_RcskxHL8tb0"
      }
    },
    {
      "cell_type": "code",
      "source": [
        "a = ('apple','banana','cherry','mango','pipeapple')\n",
        "print(a)\n",
        "print(type(a))\n",
        "print(len(a))"
      ],
      "metadata": {
        "colab": {
          "base_uri": "https://localhost:8080/"
        },
        "id": "xpXFlcXj9IVp",
        "outputId": "7ccb6992-9e44-4408-cfc1-80d942c44f36"
      },
      "execution_count": null,
      "outputs": [
        {
          "output_type": "stream",
          "name": "stdout",
          "text": [
            "('apple', 'banana', 'cherry', 'mango', 'pipeapple')\n",
            "<class 'tuple'>\n",
            "5\n"
          ]
        }
      ]
    },
    {
      "cell_type": "code",
      "source": [
        "#create tuple with one item\n",
        "x = ('apple',)\n",
        "print(type(x))\n",
        "\n",
        "#not a tuple\n",
        "a = ('apple')\n",
        "print(type(a))"
      ],
      "metadata": {
        "colab": {
          "base_uri": "https://localhost:8080/"
        },
        "id": "fe_Vm0jD9vY6",
        "outputId": "aff7ab1c-db3a-44ef-d954-8855ace19526"
      },
      "execution_count": null,
      "outputs": [
        {
          "output_type": "stream",
          "name": "stdout",
          "text": [
            "<class 'tuple'>\n",
            "<class 'str'>\n"
          ]
        }
      ]
    },
    {
      "cell_type": "code",
      "source": [
        "#A tuple can contain different data types:\n",
        "tuple1 = ('apple',34,True,40,\"mango\")\n",
        "print(tuple1)"
      ],
      "metadata": {
        "colab": {
          "base_uri": "https://localhost:8080/"
        },
        "id": "fippesGM-QQf",
        "outputId": "ae43ad47-70db-40ac-e566-2a2506e9a28f"
      },
      "execution_count": null,
      "outputs": [
        {
          "output_type": "stream",
          "name": "stdout",
          "text": [
            "('apple', 34, True, 40, 'mango')\n"
          ]
        }
      ]
    },
    {
      "cell_type": "code",
      "source": [
        "#Access tuple items\n",
        "w = ('apple','banana','cherry','orange','kiwi','melon')\n",
        "\n",
        "print(w[1])\n",
        "print(w[-2])\n",
        "print(w[2:5])\n",
        "print(w[:-1])\n",
        "\n",
        "#check if item exists\n",
        "if 'apple' in w:\n",
        "  print('yes')"
      ],
      "metadata": {
        "colab": {
          "base_uri": "https://localhost:8080/"
        },
        "id": "s2K2ZftV--6l",
        "outputId": "14efe713-9cc7-4dd5-8006-5b191df42b64"
      },
      "execution_count": null,
      "outputs": [
        {
          "output_type": "stream",
          "name": "stdout",
          "text": [
            "banana\n",
            "kiwi\n",
            "('cherry', 'orange', 'kiwi')\n",
            "('apple', 'banana', 'cherry', 'orange', 'kiwi')\n",
            "yes\n"
          ]
        }
      ]
    },
    {
      "cell_type": "code",
      "source": [
        "#Unpacking a tuple\n",
        "fruits = ('apple','banana','cherry')\n",
        "\n",
        "(green,yellow,red) = fruits\n",
        "\n",
        "print(green)\n",
        "print(yellow)\n",
        "print(red)"
      ],
      "metadata": {
        "colab": {
          "base_uri": "https://localhost:8080/"
        },
        "id": "WNF3huXIEcYw",
        "outputId": "6d77b04a-9c6f-4d59-b8d8-2b894813519e"
      },
      "execution_count": null,
      "outputs": [
        {
          "output_type": "stream",
          "name": "stdout",
          "text": [
            "apple\n",
            "banana\n",
            "cherry\n"
          ]
        }
      ]
    },
    {
      "cell_type": "code",
      "source": [
        "#Using Asterisk*\n",
        "fruits = (\"apple\", \"banana\", \"cherry\", \"strawberry\", \"raspberry\")\n",
        "\n",
        "(green,yellow,*red) = fruits\n",
        "\n",
        "print(green)\n",
        "print(yellow)\n",
        "print(red)"
      ],
      "metadata": {
        "colab": {
          "base_uri": "https://localhost:8080/"
        },
        "id": "n9auY8nsEwgR",
        "outputId": "a440ae6e-51c1-4844-fcc8-6eb4b058769d"
      },
      "execution_count": null,
      "outputs": [
        {
          "output_type": "stream",
          "name": "stdout",
          "text": [
            "apple\n",
            "banana\n",
            "['cherry', 'strawberry', 'raspberry']\n"
          ]
        }
      ]
    },
    {
      "cell_type": "code",
      "source": [
        "#loop tuples\n",
        "a = ('apple','banana','cherry')\n",
        "for x in a:\n",
        "  print(x)"
      ],
      "metadata": {
        "colab": {
          "base_uri": "https://localhost:8080/"
        },
        "id": "hhnVJiKAFOk2",
        "outputId": "ebeb5333-e6ae-4241-8ba6-cddc925fb928"
      },
      "execution_count": null,
      "outputs": [
        {
          "output_type": "stream",
          "name": "stdout",
          "text": [
            "apple\n",
            "banana\n",
            "cherry\n"
          ]
        }
      ]
    },
    {
      "cell_type": "code",
      "source": [
        "#join two tuple\n",
        "tuple1 = ('a','b','c')\n",
        "tuple2 = (1,2,3)\n",
        "\n",
        "tuple3 = tuple1 + tuple2\n",
        "print(tuple3)"
      ],
      "metadata": {
        "colab": {
          "base_uri": "https://localhost:8080/"
        },
        "id": "uNQIItmEFbVV",
        "outputId": "1d35a819-0cee-4e21-e5ee-e23a5b559319"
      },
      "execution_count": null,
      "outputs": [
        {
          "output_type": "stream",
          "name": "stdout",
          "text": [
            "('a', 'b', 'c', 1, 2, 3)\n"
          ]
        }
      ]
    },
    {
      "cell_type": "markdown",
      "source": [
        "**Set** - Set is collection which is unordered, unchangeable, and unindexed. No deuplicate members."
      ],
      "metadata": {
        "id": "zlw72eFwN7kI"
      }
    },
    {
      "cell_type": "code",
      "source": [
        "set1 = {'apple','banana','mango','cherry'}\n",
        "print(set1)"
      ],
      "metadata": {
        "colab": {
          "base_uri": "https://localhost:8080/"
        },
        "id": "D0ABN31kOQN-",
        "outputId": "59293435-e97a-4e6d-f92b-7fbba44e74f3"
      },
      "execution_count": null,
      "outputs": [
        {
          "output_type": "stream",
          "name": "stdout",
          "text": [
            "{'mango', 'banana', 'cherry', 'apple'}\n"
          ]
        }
      ]
    },
    {
      "cell_type": "code",
      "source": [
        "#no duplicate allow\n",
        "set2 = {'apple','banana','apple','cherry'}\n",
        "print(set2)"
      ],
      "metadata": {
        "colab": {
          "base_uri": "https://localhost:8080/"
        },
        "id": "23zIXGpMOZhD",
        "outputId": "909c668c-0409-446c-d354-ae9ea3c9e84d"
      },
      "execution_count": null,
      "outputs": [
        {
          "output_type": "stream",
          "name": "stdout",
          "text": [
            "{'banana', 'cherry', 'apple'}\n"
          ]
        }
      ]
    },
    {
      "cell_type": "code",
      "source": [
        "set2 = set1\n",
        "print(set2)"
      ],
      "metadata": {
        "colab": {
          "base_uri": "https://localhost:8080/"
        },
        "id": "R8KEhfVBRKR7",
        "outputId": "0f562827-5d46-40ef-be35-39027330fda3"
      },
      "execution_count": null,
      "outputs": [
        {
          "output_type": "stream",
          "name": "stdout",
          "text": [
            "{'mango', 'banana', 'cherry', 'apple'}\n"
          ]
        }
      ]
    },
    {
      "cell_type": "code",
      "source": [
        "print(len(set1))\n",
        "print(len(set2))"
      ],
      "metadata": {
        "colab": {
          "base_uri": "https://localhost:8080/"
        },
        "id": "oQH2EfvhOkcR",
        "outputId": "904566b6-525c-4d4f-f3bf-9023d3ec7260"
      },
      "execution_count": null,
      "outputs": [
        {
          "output_type": "stream",
          "name": "stdout",
          "text": [
            "4\n",
            "3\n"
          ]
        }
      ]
    },
    {
      "cell_type": "code",
      "source": [
        "set3 = {'apple',True,23}\n",
        "print(set3)"
      ],
      "metadata": {
        "colab": {
          "base_uri": "https://localhost:8080/"
        },
        "id": "xdLTWRXTOtlX",
        "outputId": "3662bd5a-af3e-4ef7-8921-0d5f020ddd45"
      },
      "execution_count": null,
      "outputs": [
        {
          "output_type": "stream",
          "name": "stdout",
          "text": [
            "{True, 23, 'apple'}\n"
          ]
        }
      ]
    },
    {
      "cell_type": "code",
      "source": [
        "type(set3)"
      ],
      "metadata": {
        "colab": {
          "base_uri": "https://localhost:8080/"
        },
        "id": "mtT_tl3RO2b3",
        "outputId": "b780371f-d568-496b-9667-32f8f76fb475"
      },
      "execution_count": null,
      "outputs": [
        {
          "output_type": "execute_result",
          "data": {
            "text/plain": [
              "set"
            ]
          },
          "metadata": {},
          "execution_count": 5
        }
      ]
    },
    {
      "cell_type": "code",
      "source": [
        "a = set(('apple','banana'))\n",
        "print(a)"
      ],
      "metadata": {
        "colab": {
          "base_uri": "https://localhost:8080/"
        },
        "id": "8hAd7Q4hO44Z",
        "outputId": "ebd62475-0692-467d-b22b-b653e9c8d94e"
      },
      "execution_count": null,
      "outputs": [
        {
          "output_type": "stream",
          "name": "stdout",
          "text": [
            "{'banana', 'apple'}\n"
          ]
        }
      ]
    },
    {
      "cell_type": "code",
      "source": [
        "for x in a:\n",
        "  print(x)"
      ],
      "metadata": {
        "colab": {
          "base_uri": "https://localhost:8080/"
        },
        "id": "XuSyG8wMPB6c",
        "outputId": "32ebda0c-3d5a-4295-de40-994cd378309d"
      },
      "execution_count": null,
      "outputs": [
        {
          "output_type": "stream",
          "name": "stdout",
          "text": [
            "banana\n",
            "apple\n"
          ]
        }
      ]
    },
    {
      "cell_type": "code",
      "source": [
        "#Once a set is created, you cannot change its items, but you can add new items.\n",
        "x = {'a','b','c'}\n",
        "x.add('SCOE')\n",
        "print(x)"
      ],
      "metadata": {
        "colab": {
          "base_uri": "https://localhost:8080/"
        },
        "id": "x8mKIGIxPT2t",
        "outputId": "fa55caeb-62c6-4720-f4b3-2af811b61d99"
      },
      "execution_count": null,
      "outputs": [
        {
          "output_type": "stream",
          "name": "stdout",
          "text": [
            "{'a', 'c', 'SCOE', 'b'}\n"
          ]
        }
      ]
    },
    {
      "cell_type": "code",
      "source": [
        "z = {1,2,'scoe'}\n",
        "z.remove(1)\n",
        "print(z)"
      ],
      "metadata": {
        "colab": {
          "base_uri": "https://localhost:8080/"
        },
        "id": "iy_2nHSkP7DM",
        "outputId": "f2f701ca-d90e-4703-b1d4-53406db39999"
      },
      "execution_count": null,
      "outputs": [
        {
          "output_type": "stream",
          "name": "stdout",
          "text": [
            "{2, 'scoe'}\n"
          ]
        }
      ]
    },
    {
      "cell_type": "markdown",
      "source": [
        "**Dictonary** - Dictonary is a collection which is ordered and changeable. No duplicate members."
      ],
      "metadata": {
        "id": "4RuDboztRRPZ"
      }
    },
    {
      "cell_type": "code",
      "source": [
        "thisdict = {\n",
        "  \"brand\": \"Ford\",\n",
        "  \"model\": \"Mustang\",\n",
        "  \"year\": 1964\n",
        "}\n",
        "\n",
        "print(thisdict)"
      ],
      "metadata": {
        "colab": {
          "base_uri": "https://localhost:8080/"
        },
        "id": "k6Uf7rjtRg33",
        "outputId": "c89b46b7-ff66-4865-b3d4-3987ed929279"
      },
      "execution_count": null,
      "outputs": [
        {
          "output_type": "stream",
          "name": "stdout",
          "text": [
            "{'brand': 'Ford', 'model': 'Mustang', 'year': 1964}\n"
          ]
        }
      ]
    },
    {
      "cell_type": "code",
      "source": [
        "thisdict = {\n",
        "  \"brand\": \"Ford\",\n",
        "  \"model\": \"Ford\",\n",
        "  \"year\": 1675,\n",
        "  \"year\": 2020\n",
        "}\n",
        "print(thisdict)"
      ],
      "metadata": {
        "colab": {
          "base_uri": "https://localhost:8080/"
        },
        "id": "YxpffNUURrV6",
        "outputId": "202b51b3-a19c-44fd-c1aa-c71151df8ce8"
      },
      "execution_count": null,
      "outputs": [
        {
          "output_type": "stream",
          "name": "stdout",
          "text": [
            "{'brand': 'Ford', 'model': 'Ford', 'year': 2020}\n"
          ]
        }
      ]
    },
    {
      "cell_type": "code",
      "source": [
        "print(thisdict['model'])"
      ],
      "metadata": {
        "colab": {
          "base_uri": "https://localhost:8080/"
        },
        "id": "HROArab6SGvf",
        "outputId": "728c420a-a4ba-441b-8297-dc7bff776568"
      },
      "execution_count": null,
      "outputs": [
        {
          "output_type": "stream",
          "name": "stdout",
          "text": [
            "Ford\n"
          ]
        }
      ]
    },
    {
      "cell_type": "code",
      "source": [
        "print(thisdict.get('model'))"
      ],
      "metadata": {
        "colab": {
          "base_uri": "https://localhost:8080/"
        },
        "id": "jXjgslsjSdV_",
        "outputId": "099b89a1-0248-49db-f298-aa9b50ff9f3b"
      },
      "execution_count": null,
      "outputs": [
        {
          "output_type": "stream",
          "name": "stdout",
          "text": [
            "Ford\n"
          ]
        }
      ]
    },
    {
      "cell_type": "code",
      "source": [
        "x = thisdict.keys()"
      ],
      "metadata": {
        "id": "ym-hHaBYSuh9"
      },
      "execution_count": null,
      "outputs": []
    },
    {
      "cell_type": "code",
      "source": [
        "print(x)"
      ],
      "metadata": {
        "colab": {
          "base_uri": "https://localhost:8080/"
        },
        "id": "Cn6jo3lGS1Or",
        "outputId": "b0035aa1-1ee2-49d5-dc57-2f92a2a8e0e4"
      },
      "execution_count": null,
      "outputs": [
        {
          "output_type": "stream",
          "name": "stdout",
          "text": [
            "dict_keys(['brand', 'model', 'year'])\n"
          ]
        }
      ]
    },
    {
      "cell_type": "code",
      "source": [
        "x = thisdict.values()"
      ],
      "metadata": {
        "id": "hH_wW7JDS26B"
      },
      "execution_count": null,
      "outputs": []
    },
    {
      "cell_type": "code",
      "source": [
        "print(x)"
      ],
      "metadata": {
        "colab": {
          "base_uri": "https://localhost:8080/"
        },
        "id": "HZCUJpeZTA_0",
        "outputId": "053b519b-4000-4bd5-a1eb-ed7549f7113e"
      },
      "execution_count": null,
      "outputs": [
        {
          "output_type": "stream",
          "name": "stdout",
          "text": [
            "dict_values(['Ford', 'Ford', 2020])\n"
          ]
        }
      ]
    },
    {
      "cell_type": "code",
      "source": [
        "thisdict[\"color\"] = \"red\""
      ],
      "metadata": {
        "id": "L6A1eAKKTELx"
      },
      "execution_count": null,
      "outputs": []
    },
    {
      "cell_type": "code",
      "source": [
        "print(thisdict)"
      ],
      "metadata": {
        "colab": {
          "base_uri": "https://localhost:8080/"
        },
        "id": "lovbW0woTRSc",
        "outputId": "4edf4a1c-565c-40db-8412-dc2703443c62"
      },
      "execution_count": null,
      "outputs": [
        {
          "output_type": "stream",
          "name": "stdout",
          "text": [
            "{'brand': 'Ford', 'model': 'Ford', 'year': 2020, 'color': 'red'}\n"
          ]
        }
      ]
    },
    {
      "cell_type": "code",
      "source": [
        "thisdict.update({\"color\": \"blue\"})"
      ],
      "metadata": {
        "id": "zpSHcBeTTTMW"
      },
      "execution_count": null,
      "outputs": []
    },
    {
      "cell_type": "code",
      "source": [
        "print(thisdict)"
      ],
      "metadata": {
        "colab": {
          "base_uri": "https://localhost:8080/"
        },
        "id": "rk5mwpxQTX9O",
        "outputId": "71a70f02-e35d-4fb6-cbe7-1b0aa4bbd3a0"
      },
      "execution_count": null,
      "outputs": [
        {
          "output_type": "stream",
          "name": "stdout",
          "text": [
            "{'brand': 'Ford', 'model': 'Ford', 'year': 2020, 'color': 'blue'}\n"
          ]
        }
      ]
    },
    {
      "cell_type": "code",
      "source": [
        "thisdict['color']='black'\n",
        "print(thisdict)"
      ],
      "metadata": {
        "colab": {
          "base_uri": "https://localhost:8080/"
        },
        "id": "67ojoLx0TZjN",
        "outputId": "25fbe2c9-008f-437a-c10a-16cb638e0eee"
      },
      "execution_count": null,
      "outputs": [
        {
          "output_type": "stream",
          "name": "stdout",
          "text": [
            "{'brand': 'Ford', 'model': 'Ford', 'year': 2020, 'color': 'black'}\n"
          ]
        }
      ]
    },
    {
      "cell_type": "code",
      "source": [
        "thisdict.pop('color')"
      ],
      "metadata": {
        "colab": {
          "base_uri": "https://localhost:8080/",
          "height": 35
        },
        "id": "2gwFx_zaTmws",
        "outputId": "45e789b2-0091-4050-e047-f0a5193e348c"
      },
      "execution_count": null,
      "outputs": [
        {
          "output_type": "execute_result",
          "data": {
            "application/vnd.google.colaboratory.intrinsic+json": {
              "type": "string"
            },
            "text/plain": [
              "'black'"
            ]
          },
          "metadata": {},
          "execution_count": 32
        }
      ]
    },
    {
      "cell_type": "code",
      "source": [
        "print(thisdict)"
      ],
      "metadata": {
        "colab": {
          "base_uri": "https://localhost:8080/"
        },
        "id": "Nan_4WJwTtsg",
        "outputId": "325aa65c-96f5-46d7-89db-b91b1a5d49a0"
      },
      "execution_count": null,
      "outputs": [
        {
          "output_type": "stream",
          "name": "stdout",
          "text": [
            "{'brand': 'Ford', 'model': 'Ford', 'year': 2020}\n"
          ]
        }
      ]
    },
    {
      "cell_type": "code",
      "source": [
        "del thisdict"
      ],
      "metadata": {
        "id": "HnacKn_8Ty09"
      },
      "execution_count": null,
      "outputs": []
    },
    {
      "cell_type": "code",
      "source": [
        "print(thisdict)"
      ],
      "metadata": {
        "colab": {
          "base_uri": "https://localhost:8080/",
          "height": 165
        },
        "id": "f_el5Xg5T80k",
        "outputId": "a4d05e55-8aa5-4689-a5cd-b425b68d8fea"
      },
      "execution_count": null,
      "outputs": [
        {
          "output_type": "error",
          "ename": "NameError",
          "evalue": "ignored",
          "traceback": [
            "\u001b[0;31m---------------------------------------------------------------------------\u001b[0m",
            "\u001b[0;31mNameError\u001b[0m                                 Traceback (most recent call last)",
            "\u001b[0;32m<ipython-input-35-cf339c69df8f>\u001b[0m in \u001b[0;36m<module>\u001b[0;34m()\u001b[0m\n\u001b[0;32m----> 1\u001b[0;31m \u001b[0mprint\u001b[0m\u001b[0;34m(\u001b[0m\u001b[0mthisdict\u001b[0m\u001b[0;34m)\u001b[0m\u001b[0;34m\u001b[0m\u001b[0;34m\u001b[0m\u001b[0m\n\u001b[0m",
            "\u001b[0;31mNameError\u001b[0m: name 'thisdict' is not defined"
          ]
        }
      ]
    },
    {
      "cell_type": "code",
      "source": [
        "thisdict = {\n",
        "  \"brand\": \"Ford\",\n",
        "  \"model\": \"Mustang\",\n",
        "  \"year\": 1964\n",
        "}"
      ],
      "metadata": {
        "id": "ND98kZStT_B7"
      },
      "execution_count": null,
      "outputs": []
    },
    {
      "cell_type": "code",
      "source": [
        "print(thisdict)"
      ],
      "metadata": {
        "colab": {
          "base_uri": "https://localhost:8080/"
        },
        "id": "7srCJ4TYUDYI",
        "outputId": "a659a5b5-48de-4680-cddc-441079064d16"
      },
      "execution_count": null,
      "outputs": [
        {
          "output_type": "stream",
          "name": "stdout",
          "text": [
            "{'brand': 'Ford', 'model': 'Mustang', 'year': 1964}\n"
          ]
        }
      ]
    },
    {
      "cell_type": "code",
      "source": [
        "mydict = thisdict.copy()\n",
        "print(mydict)"
      ],
      "metadata": {
        "colab": {
          "base_uri": "https://localhost:8080/"
        },
        "id": "O223PEDdUGei",
        "outputId": "c5a7d7fa-329f-4ec4-8a0d-d452ab72a6a5"
      },
      "execution_count": null,
      "outputs": [
        {
          "output_type": "stream",
          "name": "stdout",
          "text": [
            "{'brand': 'Ford', 'model': 'Mustang', 'year': 1964}\n"
          ]
        }
      ]
    },
    {
      "cell_type": "markdown",
      "source": [
        "**If ... Else**"
      ],
      "metadata": {
        "id": "ZcAvch-Tpgvj"
      }
    },
    {
      "cell_type": "code",
      "source": [
        "a = 5\n",
        "b = 7\n",
        "if b > a:\n",
        "  print(\"yes\")"
      ],
      "metadata": {
        "colab": {
          "base_uri": "https://localhost:8080/"
        },
        "id": "OZiPygYMp85-",
        "outputId": "37ba9c37-c3e6-411c-a105-74e2e8050745"
      },
      "execution_count": 1,
      "outputs": [
        {
          "output_type": "stream",
          "name": "stdout",
          "text": [
            "yes\n"
          ]
        }
      ]
    },
    {
      "cell_type": "code",
      "source": [
        "a = 3\n",
        "b = 3\n",
        "if b > a:\n",
        "  print(\"b > a\")\n",
        "elif a == b:\n",
        "  print(\"a==b\")"
      ],
      "metadata": {
        "colab": {
          "base_uri": "https://localhost:8080/"
        },
        "id": "SnIxU1cjuuX-",
        "outputId": "2b2d323e-1703-41e1-d21e-fc4eb5d8278a"
      },
      "execution_count": 2,
      "outputs": [
        {
          "output_type": "stream",
          "name": "stdout",
          "text": [
            "a==b\n"
          ]
        }
      ]
    },
    {
      "cell_type": "code",
      "source": [
        "x = 56\n",
        "y = 30\n",
        "if y > x:\n",
        "  print('y is greater than x')\n",
        "elif x == y:\n",
        "  print('x is equal to y')\n",
        "else:\n",
        "  print('x is greater than y')"
      ],
      "metadata": {
        "colab": {
          "base_uri": "https://localhost:8080/"
        },
        "id": "wIGlnMAzu7S5",
        "outputId": "5b114e85-889d-4504-dfc3-732861548027"
      },
      "execution_count": 3,
      "outputs": [
        {
          "output_type": "stream",
          "name": "stdout",
          "text": [
            "x is greater than y\n"
          ]
        }
      ]
    },
    {
      "cell_type": "code",
      "source": [
        "x = 56\n",
        "if x > 10:\n",
        "  print('Above ten')\n",
        "  if x > 20:\n",
        "    print('and also above 20')\n",
        "  else:\n",
        "    print('but not above 20')"
      ],
      "metadata": {
        "colab": {
          "base_uri": "https://localhost:8080/"
        },
        "id": "l9Gg7d1jvVxq",
        "outputId": "23249339-3a0d-415e-cfb7-3449bfcf0fd2"
      },
      "execution_count": 4,
      "outputs": [
        {
          "output_type": "stream",
          "name": "stdout",
          "text": [
            "Above ten\n",
            "and also above 20\n"
          ]
        }
      ]
    },
    {
      "cell_type": "markdown",
      "source": [
        "**While Loop**"
      ],
      "metadata": {
        "id": "FF-w8K8mxcAk"
      }
    },
    {
      "cell_type": "code",
      "source": [
        "i = 1\n",
        "while i < 6:\n",
        "  print(i)\n",
        "  i += 1"
      ],
      "metadata": {
        "colab": {
          "base_uri": "https://localhost:8080/"
        },
        "id": "dOUiEWL3xeYn",
        "outputId": "d7ddcec1-fd52-490a-cb14-201f6c47a46f"
      },
      "execution_count": 5,
      "outputs": [
        {
          "output_type": "stream",
          "name": "stdout",
          "text": [
            "1\n",
            "2\n",
            "3\n",
            "4\n",
            "5\n"
          ]
        }
      ]
    },
    {
      "cell_type": "markdown",
      "source": [
        "Break Statement"
      ],
      "metadata": {
        "id": "yAQt48hVxvAp"
      }
    },
    {
      "cell_type": "code",
      "source": [
        "i = 1\n",
        "while i < 6:\n",
        "  print(i)\n",
        "  if i == 3:\n",
        "    break\n",
        "  i += 1"
      ],
      "metadata": {
        "colab": {
          "base_uri": "https://localhost:8080/"
        },
        "id": "ovud6yJ8xxC2",
        "outputId": "d2a87992-6161-4a87-921c-89774d128e53"
      },
      "execution_count": 6,
      "outputs": [
        {
          "output_type": "stream",
          "name": "stdout",
          "text": [
            "1\n",
            "2\n",
            "3\n"
          ]
        }
      ]
    },
    {
      "cell_type": "markdown",
      "source": [
        "Continue Statement"
      ],
      "metadata": {
        "id": "PHtaU6OWx7Wt"
      }
    },
    {
      "cell_type": "code",
      "source": [
        "i = 0\n",
        "while i < 6:\n",
        "  i += 1\n",
        "  if i == 3:\n",
        "    continue\n",
        "  print(i)"
      ],
      "metadata": {
        "colab": {
          "base_uri": "https://localhost:8080/"
        },
        "id": "V9Fovxkex9n-",
        "outputId": "5f0a1d17-e048-498c-9a71-00936797c67f"
      },
      "execution_count": 7,
      "outputs": [
        {
          "output_type": "stream",
          "name": "stdout",
          "text": [
            "1\n",
            "2\n",
            "4\n",
            "5\n",
            "6\n"
          ]
        }
      ]
    },
    {
      "cell_type": "markdown",
      "source": [
        "**For Loop**"
      ],
      "metadata": {
        "id": "ZPDOfah3ycy8"
      }
    },
    {
      "cell_type": "code",
      "source": [
        "a = ['apple','mango','cherry','pipeapple']\n",
        "\n",
        "for i in a:\n",
        "  print(i)"
      ],
      "metadata": {
        "colab": {
          "base_uri": "https://localhost:8080/"
        },
        "id": "Z03x0YfEyfQc",
        "outputId": "0d826df3-d325-4cfd-d728-1672bf7b17f0"
      },
      "execution_count": 8,
      "outputs": [
        {
          "output_type": "stream",
          "name": "stdout",
          "text": [
            "apple\n",
            "mango\n",
            "cherry\n",
            "pipeapple\n"
          ]
        }
      ]
    },
    {
      "cell_type": "code",
      "source": [
        "for x in 'Sanjivani':\n",
        "  print(x)"
      ],
      "metadata": {
        "colab": {
          "base_uri": "https://localhost:8080/"
        },
        "id": "aLFNqX4Qyo7P",
        "outputId": "d3c7251d-714e-4f9a-9953-59acf7b98fec"
      },
      "execution_count": 9,
      "outputs": [
        {
          "output_type": "stream",
          "name": "stdout",
          "text": [
            "S\n",
            "a\n",
            "n\n",
            "j\n",
            "i\n",
            "v\n",
            "a\n",
            "n\n",
            "i\n"
          ]
        }
      ]
    },
    {
      "cell_type": "code",
      "source": [
        "a = ['apple','banana','cherry','mango','pipeapple']\n",
        "\n",
        "for x in a:\n",
        "  print(x)\n",
        "  if x == 'mango':\n",
        "    break"
      ],
      "metadata": {
        "colab": {
          "base_uri": "https://localhost:8080/"
        },
        "id": "WrwOXEWhyuTI",
        "outputId": "2ea7a06f-b19c-47a0-ad6a-33f1592ae582"
      },
      "execution_count": 10,
      "outputs": [
        {
          "output_type": "stream",
          "name": "stdout",
          "text": [
            "apple\n",
            "banana\n",
            "cherry\n",
            "mango\n"
          ]
        }
      ]
    },
    {
      "cell_type": "code",
      "source": [
        "a = ['apple','banana','cherry','mango','pipeapple']\n",
        "\n",
        "for x in a:\n",
        "  print(x)\n",
        "  if x == 'mango':\n",
        "    continue"
      ],
      "metadata": {
        "colab": {
          "base_uri": "https://localhost:8080/"
        },
        "id": "gyishnQTy8HA",
        "outputId": "44651b8b-bd1d-4054-efe2-953aa129250f"
      },
      "execution_count": 11,
      "outputs": [
        {
          "output_type": "stream",
          "name": "stdout",
          "text": [
            "apple\n",
            "banana\n",
            "cherry\n",
            "mango\n",
            "pipeapple\n"
          ]
        }
      ]
    },
    {
      "cell_type": "markdown",
      "source": [
        "range() function"
      ],
      "metadata": {
        "id": "s0qzsrF0zMvk"
      }
    },
    {
      "cell_type": "code",
      "source": [
        "for x in range(5):\n",
        "  print(x)"
      ],
      "metadata": {
        "colab": {
          "base_uri": "https://localhost:8080/"
        },
        "id": "I6upVLwwzOlw",
        "outputId": "94f06062-cd89-4a3f-d461-4c28a5175906"
      },
      "execution_count": 12,
      "outputs": [
        {
          "output_type": "stream",
          "name": "stdout",
          "text": [
            "0\n",
            "1\n",
            "2\n",
            "3\n",
            "4\n"
          ]
        }
      ]
    },
    {
      "cell_type": "code",
      "source": [
        "a = ['red','black','green','yellow']\n",
        "b = ['apple','banana','cherry','mango']\n",
        "\n",
        "for x in a:\n",
        "  for z in b:\n",
        "    print(x,z)"
      ],
      "metadata": {
        "colab": {
          "base_uri": "https://localhost:8080/"
        },
        "id": "awm-IksYzSYX",
        "outputId": "ebaf1803-9d14-42c7-d99a-d8346a90c53d"
      },
      "execution_count": 13,
      "outputs": [
        {
          "output_type": "stream",
          "name": "stdout",
          "text": [
            "red apple\n",
            "red banana\n",
            "red cherry\n",
            "red mango\n",
            "black apple\n",
            "black banana\n",
            "black cherry\n",
            "black mango\n",
            "green apple\n",
            "green banana\n",
            "green cherry\n",
            "green mango\n",
            "yellow apple\n",
            "yellow banana\n",
            "yellow cherry\n",
            "yellow mango\n"
          ]
        }
      ]
    },
    {
      "cell_type": "code",
      "source": [
        ""
      ],
      "metadata": {
        "id": "2Fl7m8brzlbi"
      },
      "execution_count": null,
      "outputs": []
    }
  ]
}