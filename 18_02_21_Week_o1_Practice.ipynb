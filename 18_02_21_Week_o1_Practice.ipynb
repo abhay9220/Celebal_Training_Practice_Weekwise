{
  "nbformat": 4,
  "nbformat_minor": 0,
  "metadata": {
    "colab": {
      "name": "Celebal_Week_o1_Practice.ipynb",
      "provenance": []
    },
    "kernelspec": {
      "name": "python3",
      "display_name": "Python 3"
    },
    "language_info": {
      "name": "python"
    }
  },
  "cells": [
    {
      "cell_type": "markdown",
      "source": [
        "**Python is a popular programming language**\n"
      ],
      "metadata": {
        "id": "RGb3J9lJyWYK"
      }
    },
    {
      "cell_type": "code",
      "source": [
        "print(\"Hello, World!\")"
      ],
      "metadata": {
        "colab": {
          "base_uri": "https://localhost:8080/"
        },
        "id": "Uh6zacJnyegR",
        "outputId": "87e8c0c3-3b26-4e81-8bb0-9bae09cffc2c"
      },
      "execution_count": null,
      "outputs": [
        {
          "output_type": "stream",
          "name": "stdout",
          "text": [
            "Hello, World!\n"
          ]
        }
      ]
    },
    {
      "cell_type": "markdown",
      "source": [
        "**Installation of Python -> Pycharm, Anaconda, use google colab**"
      ],
      "metadata": {
        "id": "nw-3iw2dy8XE"
      }
    },
    {
      "cell_type": "markdown",
      "source": [
        "**Statement and Comments**"
      ],
      "metadata": {
        "id": "XP_nNR6Oznhl"
      }
    },
    {
      "cell_type": "code",
      "source": [
        "# Declared using paraenthesis ()\n",
        "# Example\n",
        "\n",
        "x = (1+2+3+\n",
        "     5+3+4+\n",
        "     4)\n",
        "print(x)\n",
        "# [] & {} also same\n"
      ],
      "metadata": {
        "colab": {
          "base_uri": "https://localhost:8080/"
        },
        "id": "J3VNf4xMzv0T",
        "outputId": "ef9f2d9b-c0c6-4c08-c579-a5b49947c2c7"
      },
      "execution_count": null,
      "outputs": [
        {
          "output_type": "stream",
          "name": "stdout",
          "text": [
            "22\n"
          ]
        }
      ]
    },
    {
      "cell_type": "code",
      "source": [
        "# Declared using semocolon (;)\n",
        "# Example\n",
        "\n",
        "a = 2; x = 4; z = 1\n",
        "print(a,x,z)"
      ],
      "metadata": {
        "colab": {
          "base_uri": "https://localhost:8080/"
        },
        "id": "6OnjupJj0KIC",
        "outputId": "cc96550d-0102-4447-e8df-65a6631d7af7"
      },
      "execution_count": null,
      "outputs": [
        {
          "output_type": "stream",
          "name": "stdout",
          "text": [
            "2 4 1\n"
          ]
        }
      ]
    },
    {
      "cell_type": "markdown",
      "source": [
        "1. Comments can be used to explain the code\n",
        "2. Comments can be used to make the code more readable\n",
        "3. Comments can be used to prevent execution of code"
      ],
      "metadata": {
        "id": "YlNUEkZD0l2o"
      }
    },
    {
      "cell_type": "code",
      "source": [
        "print(\"Hello, Sanjivani!\") #This is comment"
      ],
      "metadata": {
        "colab": {
          "base_uri": "https://localhost:8080/"
        },
        "id": "QQhjLsNC0_le",
        "outputId": "a816fe50-80c8-4155-aa09-866bd6f7c0c3"
      },
      "execution_count": null,
      "outputs": [
        {
          "output_type": "stream",
          "name": "stdout",
          "text": [
            "Hello, Sanjivani!\n"
          ]
        }
      ]
    },
    {
      "cell_type": "code",
      "source": [
        "#this is comment\n",
        "#multi-line comment\n",
        "#more than just one line\n",
        "print(\"Hello, World\")"
      ],
      "metadata": {
        "colab": {
          "base_uri": "https://localhost:8080/"
        },
        "id": "-9PiDtHc1KlI",
        "outputId": "3be3be21-bf87-4b10-90a9-88a5b2894cfb"
      },
      "execution_count": null,
      "outputs": [
        {
          "output_type": "stream",
          "name": "stdout",
          "text": [
            "Hello, World\n"
          ]
        }
      ]
    },
    {
      "cell_type": "code",
      "source": [
        "\"\"\"\n",
        "this is a comment\n",
        "more than just one line\n",
        "sanjivani\n",
        "\"\"\"\n",
        "print(\"Sanjivani SCOE\")"
      ],
      "metadata": {
        "colab": {
          "base_uri": "https://localhost:8080/"
        },
        "id": "wyq0Y9qb1Yy3",
        "outputId": "233e1021-ac7b-4816-95a9-5293e9d8803d"
      },
      "execution_count": null,
      "outputs": [
        {
          "output_type": "stream",
          "name": "stdout",
          "text": [
            "Sanjivani SCOE\n"
          ]
        }
      ]
    },
    {
      "cell_type": "markdown",
      "source": [
        "**DocsStrings in python**"
      ],
      "metadata": {
        "id": "X3Iay-pZ1u3N"
      }
    },
    {
      "cell_type": "code",
      "source": [
        "def double(num):\n",
        "  \"\"\"function to double the value\"\"\"\n",
        "  return 2*num\n",
        "  #print(double.__doc__)\n",
        "  print(double(2))"
      ],
      "metadata": {
        "id": "b-gNNHcz1zpy"
      },
      "execution_count": null,
      "outputs": []
    },
    {
      "cell_type": "markdown",
      "source": [
        "**Indentation**"
      ],
      "metadata": {
        "id": "hGcZWQvU2ghv"
      }
    },
    {
      "cell_type": "code",
      "source": [
        "#python will give you an error if you skip the indentation\n",
        "if 5>2:\n",
        "print(\"Five is greater than two\")"
      ],
      "metadata": {
        "colab": {
          "base_uri": "https://localhost:8080/",
          "height": 130
        },
        "id": "yzxMNqSV2whg",
        "outputId": "ce911b5e-efde-47c2-d29c-da05811e4352"
      },
      "execution_count": null,
      "outputs": [
        {
          "output_type": "error",
          "ename": "IndentationError",
          "evalue": "ignored",
          "traceback": [
            "\u001b[0;36m  File \u001b[0;32m\"<ipython-input-18-e8cff106134c>\"\u001b[0;36m, line \u001b[0;32m3\u001b[0m\n\u001b[0;31m    print(\"Five is greater than two\")\u001b[0m\n\u001b[0m        ^\u001b[0m\n\u001b[0;31mIndentationError\u001b[0m\u001b[0;31m:\u001b[0m expected an indented block\n"
          ]
        }
      ]
    },
    {
      "cell_type": "code",
      "source": [
        "if 5>2:\n",
        "  print(\"five is greater tha two\")"
      ],
      "metadata": {
        "colab": {
          "base_uri": "https://localhost:8080/"
        },
        "id": "cogWb-Wl2_9w",
        "outputId": "23154c56-412e-4fab-b875-e4e8101e8890"
      },
      "execution_count": null,
      "outputs": [
        {
          "output_type": "stream",
          "name": "stdout",
          "text": [
            "five is greater tha two\n"
          ]
        }
      ]
    },
    {
      "cell_type": "markdown",
      "source": [
        "**Variables**\n",
        "variables are containers for storing dta values"
      ],
      "metadata": {
        "id": "xq-fjGB63Hmh"
      }
    },
    {
      "cell_type": "code",
      "source": [
        "x = 3\n",
        "y = \"Ram\"\n",
        "print(x)\n",
        "print(y)"
      ],
      "metadata": {
        "colab": {
          "base_uri": "https://localhost:8080/"
        },
        "id": "Klp_IvPX3WRu",
        "outputId": "7b32ed0d-b577-43cc-d521-81c36168e2a6"
      },
      "execution_count": null,
      "outputs": [
        {
          "output_type": "stream",
          "name": "stdout",
          "text": [
            "3\n",
            "Ram\n"
          ]
        }
      ]
    },
    {
      "cell_type": "markdown",
      "source": [
        "variables do not need to declared with any particular type, and also change type after they have been set."
      ],
      "metadata": {
        "id": "MFyLO5XJ3iCP"
      }
    },
    {
      "cell_type": "code",
      "source": [
        "x = 5 # x is of type int\n",
        "x = \"Sham\" # x is now of type str\n",
        "print(x)"
      ],
      "metadata": {
        "colab": {
          "base_uri": "https://localhost:8080/"
        },
        "id": "AZUj-xyL3y1u",
        "outputId": "f151c192-0201-4a3d-f6d5-278b82767259"
      },
      "execution_count": null,
      "outputs": [
        {
          "output_type": "stream",
          "name": "stdout",
          "text": [
            "Sham\n"
          ]
        }
      ]
    },
    {
      "cell_type": "markdown",
      "source": [
        "Variables Names"
      ],
      "metadata": {
        "id": "EwxuMxa_4HpV"
      }
    },
    {
      "cell_type": "markdown",
      "source": [
        "Multi words variable names"
      ],
      "metadata": {
        "id": "xIshTzUG4RTV"
      }
    },
    {
      "cell_type": "code",
      "source": [
        "# Camel Case\n",
        "\n",
        "myVariableName = \"Sanjivani\""
      ],
      "metadata": {
        "id": "so0rMYHn4U2d"
      },
      "execution_count": null,
      "outputs": []
    },
    {
      "cell_type": "code",
      "source": [
        "# Pascal Case\n",
        "\n",
        "MyVariableName = \"SCOE\""
      ],
      "metadata": {
        "id": "GqHh9fDh4ix9"
      },
      "execution_count": null,
      "outputs": []
    },
    {
      "cell_type": "code",
      "source": [
        "# Snake Case\n",
        "\n",
        "my_variable_name = \"SCOE\""
      ],
      "metadata": {
        "id": "BwxfIJq34pKT"
      },
      "execution_count": null,
      "outputs": []
    },
    {
      "cell_type": "markdown",
      "source": [
        "Many Values to Multiple Variables"
      ],
      "metadata": {
        "id": "txe4n1bd412y"
      }
    },
    {
      "cell_type": "code",
      "source": [
        "x,y,z = \"Abhay\",\"Bhavesh\",\"Siddhant\"\n",
        "print(x)\n",
        "print(y)\n",
        "print(z)"
      ],
      "metadata": {
        "colab": {
          "base_uri": "https://localhost:8080/"
        },
        "id": "liTJxOso465W",
        "outputId": "110d283c-d9c0-4c6f-805a-3687a5e7c15f"
      },
      "execution_count": null,
      "outputs": [
        {
          "output_type": "stream",
          "name": "stdout",
          "text": [
            "Abhay\n",
            "Bhavesh\n",
            "Siddhant\n"
          ]
        }
      ]
    },
    {
      "cell_type": "markdown",
      "source": [
        "One Value to Multiple Variable"
      ],
      "metadata": {
        "id": "WUPi-rG_5HQR"
      }
    },
    {
      "cell_type": "code",
      "source": [
        "x = y = z = \"SCOE\"\n",
        "print(x)\n",
        "print(y)\n",
        "print(z)"
      ],
      "metadata": {
        "colab": {
          "base_uri": "https://localhost:8080/"
        },
        "id": "H0Xacz-H5LGx",
        "outputId": "5a994920-5578-4924-be9f-a7d6875e0a2b"
      },
      "execution_count": null,
      "outputs": [
        {
          "output_type": "stream",
          "name": "stdout",
          "text": [
            "SCOE\n",
            "SCOE\n",
            "SCOE\n"
          ]
        }
      ]
    },
    {
      "cell_type": "markdown",
      "source": [
        "UnPack a Collection"
      ],
      "metadata": {
        "id": "XWn9IoMZ5TVp"
      }
    },
    {
      "cell_type": "code",
      "source": [
        "name = [\"Abhay\", \"Bhavesh\", \"Siddhant\"]\n",
        "x,y,z = name\n",
        "print(x)\n",
        "print(y)\n",
        "print(z)"
      ],
      "metadata": {
        "colab": {
          "base_uri": "https://localhost:8080/"
        },
        "id": "i9KVh0Nk5WXZ",
        "outputId": "72341661-756f-416c-8858-70e90b5a75cf"
      },
      "execution_count": null,
      "outputs": [
        {
          "output_type": "stream",
          "name": "stdout",
          "text": [
            "Abhay\n",
            "Bhavesh\n",
            "Siddhant\n"
          ]
        }
      ]
    },
    {
      "cell_type": "markdown",
      "source": [
        "Output Variable"
      ],
      "metadata": {
        "id": "B_1etzoQ5nmb"
      }
    },
    {
      "cell_type": "code",
      "source": [
        "x = \"COE\"\n",
        "print(\"Sanjivani\" + x)"
      ],
      "metadata": {
        "colab": {
          "base_uri": "https://localhost:8080/"
        },
        "id": "gRQTGHHZ5qQS",
        "outputId": "4fa33f55-c4fd-47bd-f4c4-2b98e923b2cd"
      },
      "execution_count": null,
      "outputs": [
        {
          "output_type": "stream",
          "name": "stdout",
          "text": [
            "SanjivaniCOE\n"
          ]
        }
      ]
    },
    {
      "cell_type": "markdown",
      "source": [
        "Global Variables"
      ],
      "metadata": {
        "id": "7bM2psag52Bg"
      }
    },
    {
      "cell_type": "markdown",
      "source": [
        "Variables that are created outside of a function are called as a Global Variables."
      ],
      "metadata": {
        "id": "R39sb-WP57Kv"
      }
    },
    {
      "cell_type": "markdown",
      "source": [
        "Global variables can be used by everyone, both inside of functions and outside"
      ],
      "metadata": {
        "id": "hdcA3vEs6Gg_"
      }
    },
    {
      "cell_type": "code",
      "source": [
        "x = \"COE\"\n",
        "\n",
        "def myfunc():\n",
        "  print(\"Sanjivani\" + x)\n",
        "\n",
        "myfunc()"
      ],
      "metadata": {
        "colab": {
          "base_uri": "https://localhost:8080/"
        },
        "id": "qIyJO-8f6R-2",
        "outputId": "3353a692-0fd3-45a5-b201-261d8fe99aa0"
      },
      "execution_count": null,
      "outputs": [
        {
          "output_type": "stream",
          "name": "stdout",
          "text": [
            "SanjivaniCOE\n"
          ]
        }
      ]
    },
    {
      "cell_type": "markdown",
      "source": [
        "If you create a variable with the same name inside the a function, this variable will be local, and can only be used inside the function. "
      ],
      "metadata": {
        "id": "p5G-krUi7-Lw"
      }
    },
    {
      "cell_type": "code",
      "source": [
        "x = \"COE\"\n",
        "\n",
        "def myfunc():\n",
        "  x = \"College\"\n",
        "  print(\"Sanjivani\" + x)\n",
        "\n",
        "myfunc()\n",
        "\n",
        "print(\"Sanjivani\" + x)"
      ],
      "metadata": {
        "colab": {
          "base_uri": "https://localhost:8080/"
        },
        "id": "CawAJ_kb8c5t",
        "outputId": "94815728-57b2-4215-d865-ca582e17286d"
      },
      "execution_count": null,
      "outputs": [
        {
          "output_type": "stream",
          "name": "stdout",
          "text": [
            "SanjivaniCollege\n",
            "SanjivaniCOE\n"
          ]
        }
      ]
    },
    {
      "cell_type": "markdown",
      "source": [
        "When you create a variable inside the function, that variable is local, and can only be used inside that function."
      ],
      "metadata": {
        "id": "r5mNKWHD8yt-"
      }
    },
    {
      "cell_type": "markdown",
      "source": [
        "To create a global variable inside a function, you can use the \"global\" keyword."
      ],
      "metadata": {
        "id": "vuySDVJV8-gm"
      }
    },
    {
      "cell_type": "code",
      "source": [
        "def myfunc():\n",
        "  global x\n",
        "  x = \"COE\"\n",
        "\n",
        "myfunc()\n",
        "\n",
        "print(\"Sanjivani\" + x)"
      ],
      "metadata": {
        "colab": {
          "base_uri": "https://localhost:8080/"
        },
        "id": "LBnHhK-F9Jkl",
        "outputId": "142caa2c-0a9d-43f6-cb9d-9e87ee676d50"
      },
      "execution_count": null,
      "outputs": [
        {
          "output_type": "stream",
          "name": "stdout",
          "text": [
            "SanjivaniCOE\n"
          ]
        }
      ]
    },
    {
      "cell_type": "markdown",
      "source": [
        "**Data Types**"
      ],
      "metadata": {
        "id": "2uqkB80e9bRn"
      }
    },
    {
      "cell_type": "markdown",
      "source": [
        "Text type: str"
      ],
      "metadata": {
        "id": "QKJ6xAsM9t_t"
      }
    },
    {
      "cell_type": "markdown",
      "source": [
        "Numeric types: int,float,complex"
      ],
      "metadata": {
        "id": "umbW_1D49xmV"
      }
    },
    {
      "cell_type": "markdown",
      "source": [
        "Sequence types: list,tuple,range"
      ],
      "metadata": {
        "id": "_yJ29_gf92jb"
      }
    },
    {
      "cell_type": "markdown",
      "source": [
        "Mapping types: dict"
      ],
      "metadata": {
        "id": "nJ7wnRfC97t7"
      }
    },
    {
      "cell_type": "markdown",
      "source": [
        "Set types: set,frozenset"
      ],
      "metadata": {
        "id": "HuniNGuM9-oD"
      }
    },
    {
      "cell_type": "markdown",
      "source": [
        "Boolean type: bool"
      ],
      "metadata": {
        "id": "k9eiaYQg-DPj"
      }
    },
    {
      "cell_type": "markdown",
      "source": [
        "Binary types: bytes,bytearray,memoryview"
      ],
      "metadata": {
        "id": "Ubi_pOHf-F46"
      }
    },
    {
      "cell_type": "code",
      "source": [
        "x= \"hello world\"\n",
        "print(type(x))"
      ],
      "metadata": {
        "colab": {
          "base_uri": "https://localhost:8080/"
        },
        "id": "Vn8EOPzW-MUa",
        "outputId": "d76d18f1-97e5-47b9-9000-6cac0a02fb6f"
      },
      "execution_count": null,
      "outputs": [
        {
          "output_type": "stream",
          "name": "stdout",
          "text": [
            "<class 'str'>\n"
          ]
        }
      ]
    },
    {
      "cell_type": "code",
      "source": [
        "x = 20\n",
        "print(type(x))"
      ],
      "metadata": {
        "colab": {
          "base_uri": "https://localhost:8080/"
        },
        "id": "-furPrb3-fav",
        "outputId": "fcfaf18d-4460-4950-e2a8-d264a5ceec0c"
      },
      "execution_count": null,
      "outputs": [
        {
          "output_type": "stream",
          "name": "stdout",
          "text": [
            "<class 'int'>\n"
          ]
        }
      ]
    },
    {
      "cell_type": "code",
      "source": [
        "x = 45.5\n",
        "print(type(x))"
      ],
      "metadata": {
        "colab": {
          "base_uri": "https://localhost:8080/"
        },
        "id": "LnuVwFaO-iqi",
        "outputId": "dd657c5f-3755-4fce-f6a0-fa33acec329f"
      },
      "execution_count": null,
      "outputs": [
        {
          "output_type": "stream",
          "name": "stdout",
          "text": [
            "<class 'float'>\n"
          ]
        }
      ]
    },
    {
      "cell_type": "code",
      "source": [
        "x= 2j\n",
        "print(type(x))"
      ],
      "metadata": {
        "colab": {
          "base_uri": "https://localhost:8080/"
        },
        "id": "QVtsbMkR-l21",
        "outputId": "63e352a3-e027-4696-9836-059f032fd971"
      },
      "execution_count": null,
      "outputs": [
        {
          "output_type": "stream",
          "name": "stdout",
          "text": [
            "<class 'complex'>\n"
          ]
        }
      ]
    },
    {
      "cell_type": "code",
      "source": [
        "x = [\"Abhay\",\"Bhavesh\",\"Siddhant\"]\n",
        "print(type(x))"
      ],
      "metadata": {
        "colab": {
          "base_uri": "https://localhost:8080/"
        },
        "id": "zsNTFztq-qDV",
        "outputId": "7490ca9d-2c91-400f-cfa3-9889b4a75751"
      },
      "execution_count": null,
      "outputs": [
        {
          "output_type": "stream",
          "name": "stdout",
          "text": [
            "<class 'list'>\n"
          ]
        }
      ]
    },
    {
      "cell_type": "code",
      "source": [
        "x = (\"Abhay\",\"Bhavesh\",\"Siddhant\")\n",
        "print(type(x))"
      ],
      "metadata": {
        "colab": {
          "base_uri": "https://localhost:8080/"
        },
        "id": "1ydueVm_-wgo",
        "outputId": "cada8fda-4e36-4aea-d385-19d6f6ae3dfb"
      },
      "execution_count": null,
      "outputs": [
        {
          "output_type": "stream",
          "name": "stdout",
          "text": [
            "<class 'tuple'>\n"
          ]
        }
      ]
    },
    {
      "cell_type": "code",
      "source": [
        "x = {\"name\" : \"Bhavesh\" , \"age\" : 21}\n",
        "print(type(x))"
      ],
      "metadata": {
        "colab": {
          "base_uri": "https://localhost:8080/"
        },
        "id": "ZhyAZzjx-3hH",
        "outputId": "8812c2ae-6fc5-4714-9454-10e27e950eff"
      },
      "execution_count": null,
      "outputs": [
        {
          "output_type": "stream",
          "name": "stdout",
          "text": [
            "<class 'dict'>\n"
          ]
        }
      ]
    },
    {
      "cell_type": "code",
      "source": [
        "x = {\"Abhay\",\"Bhavesh\"}\n",
        "print(type(x))"
      ],
      "metadata": {
        "colab": {
          "base_uri": "https://localhost:8080/"
        },
        "id": "JxhWumgG_Dcp",
        "outputId": "130b1451-10f4-43bd-94cc-7712f51cd3b3"
      },
      "execution_count": null,
      "outputs": [
        {
          "output_type": "stream",
          "name": "stdout",
          "text": [
            "<class 'set'>\n"
          ]
        }
      ]
    },
    {
      "cell_type": "code",
      "source": [
        "x = range(6)\n",
        "print(type(x))"
      ],
      "metadata": {
        "colab": {
          "base_uri": "https://localhost:8080/"
        },
        "id": "j0Al-JtW_Jm2",
        "outputId": "a5d568c0-6ae5-432a-fbae-f767c31e6078"
      },
      "execution_count": null,
      "outputs": [
        {
          "output_type": "stream",
          "name": "stdout",
          "text": [
            "<class 'range'>\n"
          ]
        }
      ]
    },
    {
      "cell_type": "code",
      "source": [
        "x = frozenset((\"apple\", \"banana\", \"cherry\"))\n",
        "print(type(x))"
      ],
      "metadata": {
        "colab": {
          "base_uri": "https://localhost:8080/"
        },
        "id": "P2Tet83y_Uv2",
        "outputId": "1e16a3ad-1ed9-45c6-9a48-6b53ad502df3"
      },
      "execution_count": null,
      "outputs": [
        {
          "output_type": "stream",
          "name": "stdout",
          "text": [
            "<class 'frozenset'>\n"
          ]
        }
      ]
    },
    {
      "cell_type": "code",
      "source": [
        "x = bool(2)\n",
        "print(type(x))"
      ],
      "metadata": {
        "colab": {
          "base_uri": "https://localhost:8080/"
        },
        "id": "vnd41RPg_ZCm",
        "outputId": "0632edaf-d9a8-4f8b-a343-dd9e2e3f8408"
      },
      "execution_count": null,
      "outputs": [
        {
          "output_type": "stream",
          "name": "stdout",
          "text": [
            "<class 'bool'>\n"
          ]
        }
      ]
    },
    {
      "cell_type": "code",
      "source": [
        "x= bytes(2)\n",
        "print(type(x))"
      ],
      "metadata": {
        "colab": {
          "base_uri": "https://localhost:8080/"
        },
        "id": "6tpffmT2_cdZ",
        "outputId": "03d0be0a-2855-4e2a-9fd2-2c9092a3c465"
      },
      "execution_count": null,
      "outputs": [
        {
          "output_type": "stream",
          "name": "stdout",
          "text": [
            "<class 'bytes'>\n"
          ]
        }
      ]
    },
    {
      "cell_type": "code",
      "source": [
        "x= bytearray(3)\n",
        "print(type(x))"
      ],
      "metadata": {
        "colab": {
          "base_uri": "https://localhost:8080/"
        },
        "id": "8KjlVrqM_kB6",
        "outputId": "917bf02f-9e29-4651-9bec-9c8bffdad53e"
      },
      "execution_count": null,
      "outputs": [
        {
          "output_type": "stream",
          "name": "stdout",
          "text": [
            "<class 'bytearray'>\n"
          ]
        }
      ]
    },
    {
      "cell_type": "code",
      "source": [
        "x = memoryview(bytes(5))\n",
        "print(type(x))"
      ],
      "metadata": {
        "colab": {
          "base_uri": "https://localhost:8080/"
        },
        "id": "DA0_TcTQ_plb",
        "outputId": "fbbf6ba5-25cd-42d0-89df-9d623c6d1a7a"
      },
      "execution_count": null,
      "outputs": [
        {
          "output_type": "stream",
          "name": "stdout",
          "text": [
            "<class 'memoryview'>\n"
          ]
        }
      ]
    },
    {
      "cell_type": "markdown",
      "source": [
        "**Type Casting**"
      ],
      "metadata": {
        "id": "ysV0BHfl_t-u"
      }
    },
    {
      "cell_type": "code",
      "source": [
        "# using ord(),hex(),oct()\n",
        "# initializing string\n",
        "a = \"4354\"\n",
        "print(type(a))"
      ],
      "metadata": {
        "id": "OR-mUY_Z_xLH",
        "colab": {
          "base_uri": "https://localhost:8080/"
        },
        "outputId": "6623f158-a970-4b10-fd20-bbb278391802"
      },
      "execution_count": 2,
      "outputs": [
        {
          "output_type": "stream",
          "name": "stdout",
          "text": [
            "<class 'str'>\n"
          ]
        }
      ]
    },
    {
      "cell_type": "code",
      "source": [
        "# converting str into int\n",
        "z = int(a)\n",
        "print(type(z))"
      ],
      "metadata": {
        "colab": {
          "base_uri": "https://localhost:8080/"
        },
        "id": "PDpk3g76cXcb",
        "outputId": "bd78c75a-daa7-4e16-8580-c81820c398eb"
      },
      "execution_count": 3,
      "outputs": [
        {
          "output_type": "stream",
          "name": "stdout",
          "text": [
            "<class 'int'>\n"
          ]
        }
      ]
    },
    {
      "cell_type": "code",
      "source": [
        "# converting str into float\n",
        "x = float(a)\n",
        "print(type(x))"
      ],
      "metadata": {
        "colab": {
          "base_uri": "https://localhost:8080/"
        },
        "id": "UEbW7YZYchqq",
        "outputId": "535412b7-d528-4386-b5ea-8dd8f9c2b103"
      },
      "execution_count": 4,
      "outputs": [
        {
          "output_type": "stream",
          "name": "stdout",
          "text": [
            "<class 'float'>\n"
          ]
        }
      ]
    },
    {
      "cell_type": "code",
      "source": [
        "# using ord(),hex(),oct()\n",
        "# initializing\n",
        "a = \"5\"\n",
        "print(type(a))"
      ],
      "metadata": {
        "colab": {
          "base_uri": "https://localhost:8080/"
        },
        "id": "ZnwLZSGPcpio",
        "outputId": "df9e99b5-c112-435d-f93c-1cce999079cf"
      },
      "execution_count": 7,
      "outputs": [
        {
          "output_type": "stream",
          "name": "stdout",
          "text": [
            "<class 'str'>\n"
          ]
        }
      ]
    },
    {
      "cell_type": "markdown",
      "source": [
        "ord() expected a character, but string of length"
      ],
      "metadata": {
        "id": "qDOloz0pdd5q"
      }
    },
    {
      "cell_type": "code",
      "source": [
        "# str converting to int\n",
        "z = ord(a)\n",
        "print(type(z))"
      ],
      "metadata": {
        "colab": {
          "base_uri": "https://localhost:8080/"
        },
        "id": "jpDEsZqAc8Oi",
        "outputId": "29b23fbe-b334-49b7-d81d-e4e1583c429d"
      },
      "execution_count": 8,
      "outputs": [
        {
          "output_type": "stream",
          "name": "stdout",
          "text": [
            "<class 'int'>\n"
          ]
        }
      ]
    },
    {
      "cell_type": "code",
      "source": [
        "# int converting to hexadecimal string\n",
        "c =   hex(42)\n",
        "print(c)\n",
        "print(type(c))"
      ],
      "metadata": {
        "colab": {
          "base_uri": "https://localhost:8080/"
        },
        "id": "giS81hYLdh1T",
        "outputId": "181948cf-1d5a-4756-ec82-062228788e47"
      },
      "execution_count": 9,
      "outputs": [
        {
          "output_type": "stream",
          "name": "stdout",
          "text": [
            "0x2a\n",
            "<class 'str'>\n"
          ]
        }
      ]
    },
    {
      "cell_type": "code",
      "source": [
        "# int converting to octal string\n",
        "a = oct(23)\n",
        "print(a)\n",
        "print(type(a))"
      ],
      "metadata": {
        "colab": {
          "base_uri": "https://localhost:8080/"
        },
        "id": "lG_nibpydtVX",
        "outputId": "470e5043-4179-44a4-ddf4-61fbe7aae586"
      },
      "execution_count": 10,
      "outputs": [
        {
          "output_type": "stream",
          "name": "stdout",
          "text": [
            "0o27\n",
            "<class 'str'>\n"
          ]
        }
      ]
    },
    {
      "cell_type": "code",
      "source": [
        "# int converting to chhar string\n",
        "a = chr(45)\n",
        "print(a)\n",
        "print(type(a))"
      ],
      "metadata": {
        "colab": {
          "base_uri": "https://localhost:8080/"
        },
        "id": "oej4aFOVd63M",
        "outputId": "2c45237b-4fa4-48af-f3c2-d404cb19fa2b"
      },
      "execution_count": 11,
      "outputs": [
        {
          "output_type": "stream",
          "name": "stdout",
          "text": [
            "-\n",
            "<class 'str'>\n"
          ]
        }
      ]
    },
    {
      "cell_type": "code",
      "source": [
        "# using tuple(),set(),list()\n",
        "\n",
        "# initializing string\n",
        "\n",
        "a = \"Sanjivani\"\n",
        "print(type(a))"
      ],
      "metadata": {
        "colab": {
          "base_uri": "https://localhost:8080/"
        },
        "id": "Mbj_0_lIeKUL",
        "outputId": "c97e6337-d019-4330-ba74-0549e1186078"
      },
      "execution_count": 12,
      "outputs": [
        {
          "output_type": "stream",
          "name": "stdout",
          "text": [
            "<class 'str'>\n"
          ]
        }
      ]
    },
    {
      "cell_type": "code",
      "source": [
        "# string converting to tuple\n",
        "c = tuple(a)\n",
        "print(c)\n",
        "print(type(c))"
      ],
      "metadata": {
        "colab": {
          "base_uri": "https://localhost:8080/"
        },
        "id": "_voMkxlPefce",
        "outputId": "7687f9e2-be74-49a4-9a6f-5212e49cc04a"
      },
      "execution_count": 13,
      "outputs": [
        {
          "output_type": "stream",
          "name": "stdout",
          "text": [
            "('S', 'a', 'n', 'j', 'i', 'v', 'a', 'n', 'i')\n",
            "<class 'tuple'>\n"
          ]
        }
      ]
    },
    {
      "cell_type": "code",
      "source": [
        "# string converting to set\n",
        "x = set(a)\n",
        "print(x)\n",
        "print(type(x))"
      ],
      "metadata": {
        "colab": {
          "base_uri": "https://localhost:8080/"
        },
        "id": "_gMkw1QCepbw",
        "outputId": "5cebe8d5-2970-4df8-c6d3-f46f404e1886"
      },
      "execution_count": 14,
      "outputs": [
        {
          "output_type": "stream",
          "name": "stdout",
          "text": [
            "{'n', 'v', 'S', 'a', 'i', 'j'}\n",
            "<class 'set'>\n"
          ]
        }
      ]
    },
    {
      "cell_type": "code",
      "source": [
        "# string converting to list\n",
        "z = list(a)\n",
        "print(z)\n",
        "print(type(z))"
      ],
      "metadata": {
        "colab": {
          "base_uri": "https://localhost:8080/"
        },
        "id": "LfeoiwMuexnt",
        "outputId": "aa0f740d-e0af-4265-b68c-03d2e00c53e3"
      },
      "execution_count": 15,
      "outputs": [
        {
          "output_type": "stream",
          "name": "stdout",
          "text": [
            "['S', 'a', 'n', 'j', 'i', 'v', 'a', 'n', 'i']\n",
            "<class 'list'>\n"
          ]
        }
      ]
    },
    {
      "cell_type": "markdown",
      "source": [
        "**Slicing**"
      ],
      "metadata": {
        "id": "C2UbQnUge99e"
      }
    },
    {
      "cell_type": "code",
      "source": [
        "w = \"Sanjivani\"\n",
        "print(w)"
      ],
      "metadata": {
        "colab": {
          "base_uri": "https://localhost:8080/"
        },
        "id": "hYCx85tpfAZu",
        "outputId": "4a53fa6e-188d-4c6d-cfcc-fcaf3c01814d"
      },
      "execution_count": 17,
      "outputs": [
        {
          "output_type": "stream",
          "name": "stdout",
          "text": [
            "Sanjivani\n"
          ]
        }
      ]
    },
    {
      "cell_type": "code",
      "source": [
        "# print whole string\n",
        "print(w)"
      ],
      "metadata": {
        "colab": {
          "base_uri": "https://localhost:8080/"
        },
        "id": "VG2psA81fGrd",
        "outputId": "a8583595-4bf9-491e-8133-580a294ae263"
      },
      "execution_count": 18,
      "outputs": [
        {
          "output_type": "stream",
          "name": "stdout",
          "text": [
            "Sanjivani\n"
          ]
        }
      ]
    },
    {
      "cell_type": "code",
      "source": [
        "# starting from 3rd char till the end\n",
        "print(w[2:])"
      ],
      "metadata": {
        "colab": {
          "base_uri": "https://localhost:8080/"
        },
        "id": "xa1GC0LUfNcx",
        "outputId": "cb4011e8-c12f-46e5-fb19-15428ea2d6c7"
      },
      "execution_count": 20,
      "outputs": [
        {
          "output_type": "stream",
          "name": "stdout",
          "text": [
            "njivani\n"
          ]
        }
      ]
    },
    {
      "cell_type": "code",
      "source": [
        "# print the first char\n",
        "print(w[0])"
      ],
      "metadata": {
        "colab": {
          "base_uri": "https://localhost:8080/"
        },
        "id": "Nj3IhBFUfiRd",
        "outputId": "b1830631-8ddd-477e-efb3-d20a4f310f5c"
      },
      "execution_count": 22,
      "outputs": [
        {
          "output_type": "stream",
          "name": "stdout",
          "text": [
            "S\n"
          ]
        }
      ]
    },
    {
      "cell_type": "code",
      "source": [
        "# start from second last till the first\n",
        "print(w[:-1])"
      ],
      "metadata": {
        "colab": {
          "base_uri": "https://localhost:8080/"
        },
        "id": "gilJuksLfpTv",
        "outputId": "83001665-70af-401b-cfe2-8a1f2ef7e662"
      },
      "execution_count": 24,
      "outputs": [
        {
          "output_type": "stream",
          "name": "stdout",
          "text": [
            "Sanjivan\n"
          ]
        }
      ]
    },
    {
      "cell_type": "code",
      "source": [
        "# start 3rd till thris last\n",
        "print(w[2:-2])"
      ],
      "metadata": {
        "colab": {
          "base_uri": "https://localhost:8080/"
        },
        "id": "ZUMm4YzRf0f_",
        "outputId": "c8366d70-41a1-4adf-a792-768c3fb76ca6"
      },
      "execution_count": 26,
      "outputs": [
        {
          "output_type": "stream",
          "name": "stdout",
          "text": [
            "njiva\n"
          ]
        }
      ]
    },
    {
      "cell_type": "code",
      "source": [
        "print(w * 2)"
      ],
      "metadata": {
        "colab": {
          "base_uri": "https://localhost:8080/"
        },
        "id": "RPKmTB8tgBBB",
        "outputId": "c6a2a145-6b72-48d6-c5ab-8886c82e6077"
      },
      "execution_count": 27,
      "outputs": [
        {
          "output_type": "stream",
          "name": "stdout",
          "text": [
            "SanjivaniSanjivani\n"
          ]
        }
      ]
    },
    {
      "cell_type": "code",
      "source": [
        "print(w + \" \" + \"COE\")"
      ],
      "metadata": {
        "colab": {
          "base_uri": "https://localhost:8080/"
        },
        "id": "4yoMr5zwgEtZ",
        "outputId": "bb985681-0dbe-46ba-9275-6cf94c5a6c0b"
      },
      "execution_count": 28,
      "outputs": [
        {
          "output_type": "stream",
          "name": "stdout",
          "text": [
            "Sanjivani COE\n"
          ]
        }
      ]
    },
    {
      "cell_type": "code",
      "source": [
        ""
      ],
      "metadata": {
        "id": "9naSJJlHgJzb"
      },
      "execution_count": null,
      "outputs": []
    }
  ]
}